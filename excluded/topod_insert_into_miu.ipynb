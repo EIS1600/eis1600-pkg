{
 "cells": [
  {
   "cell_type": "code",
   "execution_count": 1,
   "metadata": {
    "collapsed": true
   },
   "outputs": [],
   "source": [
    "from re import compile\n",
    "from glob import iglob\n",
    "from pandas import concat, DataFrame, read_csv\n",
    "from openiti.helper.ara import denormalize\n",
    "\n",
    "from eis1600.gazetteers.Spellings import Spellings\n",
    "from eis1600.gazetteers.Toponyms import Toponyms\n",
    "from eis1600.helper.markdown_patterns import WORD, NOISE_ELEMENTS\n",
    "from eis1600.helper.repo import MIU_REPO, TOPO_REPO\n",
    "from eis1600.processing.preprocessing import get_yml_and_miu_df, get_tokens_and_tags\n",
    "from eis1600.processing.postprocessing import merge_tagslists, reconstruct_miu_text_with_tags"
   ]
  },
  {
   "cell_type": "code",
   "execution_count": 2,
   "outputs": [],
   "source": [
    "sheets = iglob('../../' + TOPO_REPO + 'sheet_[0-9].csv')\n",
    "sheets_df = DataFrame(None, columns=['MIU', 'ORIGINAL', 'MODIFIABLE', 'STATUS'])\n",
    "\n",
    "for sheet in sheets:\n",
    "    tmp = read_csv(sheet)\n",
    "    sheets_df = concat([sheets_df, tmp])\n",
    "\n",
    "entries = sheets_df.loc[sheets_df['STATUS'].isna()]"
   ],
   "metadata": {
    "collapsed": false,
    "pycharm": {
     "name": "#%%\n"
    }
   }
  },
  {
   "cell_type": "code",
   "execution_count": 3,
   "outputs": [],
   "source": [
    "df_by_files = DataFrame(entries.groupby('MIU')['MODIFIABLE'].apply(list)).reset_index()\n",
    "infiles = []\n",
    "\n",
    "for miu in df_by_files['MIU'].to_list():\n",
    "    author, text, version, uid = miu.split('.')\n",
    "    file_path = '../../' + MIU_REPO + 'data/' + '/'.join([author, '.'.join([author, text])]) + '/MIUs/' + miu + '.EIS1600'\n",
    "    infiles.append(file_path)\n",
    "\n",
    "df_by_files['infile'] = infiles"
   ],
   "metadata": {
    "collapsed": false,
    "pycharm": {
     "name": "#%%\n"
    }
   }
  },
  {
   "cell_type": "code",
   "execution_count": 4,
   "outputs": [
    {
     "data": {
      "text/plain": "MIU           0240KhalifaIbnKhayyat.Tabaqat.Shia003056-ara1....\nMODIFIABLE    [هاشم بن عبد مناف استشهد بسفوان من ناحية البصر...\ninfile        ../../EIS1600_MIUs/data/0240KhalifaIbnKhayyat/...\nName: 0, dtype: object"
     },
     "execution_count": 4,
     "metadata": {},
     "output_type": "execute_result"
    }
   ],
   "source": [
    "row = df_by_files.iloc[0]\n",
    "row"
   ],
   "metadata": {
    "collapsed": false,
    "pycharm": {
     "name": "#%%\n"
    }
   }
  },
  {
   "cell_type": "code",
   "execution_count": 5,
   "outputs": [],
   "source": [
    "place_terms = ['كورة', 'كور', 'قرية', 'قرى', 'مدينة', 'مدن', 'ناحية', 'نواح', 'نواحي', 'محلة', 'محال', 'محلات', 'بلد',\n",
    "               'بلاد', 'ارباع', 'رستاق', 'رساتيق', 'أعمال']  # 'ربع'\n",
    "technical_terms = ['من', 'بين',\n",
    "                   'نسبة',\n",
    "                   'يوم', 'يوما',\n",
    "                   'مرحلة', 'مرحلتان', 'مرحلتين', 'مراحل',\n",
    "                   'فرسخ', 'فرسخا', 'فراسخ',\n",
    "                   'ميل', 'ميلا', 'أميال']\n",
    "dn_pt = [denormalize(t) for t in place_terms]\n",
    "dn_tt = [denormalize(t) for t in technical_terms]\n",
    "dn_spelling = Spellings.instance().get_denormalized_list()\n",
    "dn_toponyms = Toponyms.instance().total()\n",
    "\n",
    "PLACES_REGEX = compile(\n",
    "        r'(?P<context>(?:' + WORD + NOISE_ELEMENTS +\n",
    "        r'(?P<spelling> [وب]?(?:ال)?(?:' + '|'.join(dn_spelling) + ')(?:ها)?' + NOISE_ELEMENTS + r')*){1,10})'\n",
    "        r' (?P<place_term>' + '|'.join(dn_pt) + r')(?P<more_context>' + WORD + NOISE_ELEMENTS + r'){1,7}'\n",
    ")\n",
    "\n",
    "TT_REGEX = compile(r'|'.join(dn_pt + dn_tt + dn_spelling + dn_toponyms))"
   ],
   "metadata": {
    "collapsed": false,
    "pycharm": {
     "name": "#%%\n"
    }
   }
  },
  {
   "cell_type": "code",
   "execution_count": 6,
   "outputs": [
    {
     "name": "stdout",
     "output_type": "stream",
     "text": [
      "الزبير بن العوام بن خويلد بن أسد بن عبد العزى يكنى أبا عبد الله أمه صفية TPD17 بنت عبد المطلب بن هاشم بن عبد مناف استشهد بسفوان من ناحية البصرة سنة ست وثلاثين وأخوه\n"
     ]
    }
   ],
   "source": [
    "infile = row['infile']\n",
    "outfile = '../../' + TOPO_REPO + 'MIUs/' + row['MIU'] + '.EIS1600'\n",
    "with open(infile, 'r', encoding='utf-8') as miu_file_object:\n",
    "    yml_handler, df = get_yml_and_miu_df(miu_file_object)\n",
    "\n",
    "text = ' '.join(df['TOKENS'].loc[df['TOKENS'].notna()].to_list())\n",
    "text_updated = text\n",
    "\n",
    "if PLACES_REGEX.search(text_updated):\n",
    "        m = PLACES_REGEX.search(text_updated)\n",
    "        while m:\n",
    "            start = m.start()\n",
    "            end = m.end()\n",
    "            if len(TT_REGEX.findall(m.group(0))) >= 3:\n",
    "                p = m.group(0).strip()\n",
    "                tag = 'TPD' + str(len(p.split())) + ' '\n",
    "                text_updated = text_updated.replace(p, tag + p)\n",
    "                m = PLACES_REGEX.search(text_updated, end + len(tag))\n",
    "            else:\n",
    "                m = PLACES_REGEX.search(text_updated, end)"
   ],
   "metadata": {
    "collapsed": false,
    "pycharm": {
     "name": "#%%\n"
    }
   }
  },
  {
   "cell_type": "code",
   "execution_count": 7,
   "outputs": [
    {
     "data": {
      "text/plain": "'_ء_#=435133874943= $\\n\\n_ء_=533398029058= ::UNDEFINED:: ~\\n_ء_ الزبير بن العوام بن خويلد بن أسد بن عبد العزى\\n\\n_ء_=416360170249= ::UNDEFINED:: ~\\n_ء_ يكنى أبا عبد الله أمه صفية TPD17 بنت عبد المطلب بن هاشم بن عبد مناف استشهد بسفوان من ناحية البصرة سنة ست وثلاثين\\n\\n_ء_=465567744777= ::UNDEFINED:: ~\\n_ء_ وأخوه\\n\\n'"
     },
     "execution_count": 7,
     "metadata": {},
     "output_type": "execute_result"
    }
   ],
   "source": [
    "tokens, tags = get_tokens_and_tags(text_updated)\n",
    "\n",
    "df.loc[df['TOKENS'].notna(), 'TPD_TAGS'] = tags\n",
    "df['TAGS_LISTS'] = df.apply(lambda x: merge_tagslists(x['TAGS_LISTS'], x['TPD_TAGS']), axis=1)\n",
    "\n",
    "updated_text = reconstruct_miu_text_with_tags(df[['SECTIONS', 'TOKENS', 'TAGS_LISTS']])\n",
    "updated_text"
   ],
   "metadata": {
    "collapsed": false,
    "pycharm": {
     "name": "#%%\n"
    }
   }
  },
  {
   "cell_type": "code",
   "execution_count": 9,
   "outputs": [
    {
     "name": "stdout",
     "output_type": "stream",
     "text": [
      "../../Topo_Data/MIUs/0240KhalifaIbnKhayyat.Tabaqat.Shia003056-ara1.435133874943.EIS1600\n"
     ]
    }
   ],
   "source": [
    "with open(outfile, 'w', encoding='utf-8') as outfile_h:\n",
    "    outfile_h.write(str(yml_handler) + updated_text)\n"
   ],
   "metadata": {
    "collapsed": false,
    "pycharm": {
     "name": "#%%\n"
    }
   }
  },
  {
   "cell_type": "code",
   "execution_count": null,
   "outputs": [],
   "source": [],
   "metadata": {
    "collapsed": false,
    "pycharm": {
     "name": "#%%\n"
    }
   }
  }
 ],
 "metadata": {
  "kernelspec": {
   "display_name": "Python 3",
   "language": "python",
   "name": "python3"
  },
  "language_info": {
   "codemirror_mode": {
    "name": "ipython",
    "version": 2
   },
   "file_extension": ".py",
   "mimetype": "text/x-python",
   "name": "python",
   "nbconvert_exporter": "python",
   "pygments_lexer": "ipython2",
   "version": "2.7.6"
  }
 },
 "nbformat": 4,
 "nbformat_minor": 0
}