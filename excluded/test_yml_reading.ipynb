{
 "cells": [
  {
   "cell_type": "code",
   "execution_count": 1,
   "metadata": {
    "collapsed": true
   },
   "outputs": [],
   "source": [
    "from eis1600.processing.preprocessing import get_yml_and_miu_df"
   ]
  },
  {
   "cell_type": "code",
   "execution_count": 5,
   "outputs": [
    {
     "data": {
      "text/plain": "                              SECTIONS   TOKENS TAGS_LISTS\n0         _ء_#=744740694335= ||||| فصل     None       None\n1    _ء_=505195604292= ::UNDEFINED:: ~      وإن       None\n2                                 None     أجرت       None\n3                                 None    امرأة       None\n4                                 None    نفسها       None\n..                                 ...      ...        ...\n175                               None     شرحه       None\n176                               None       فى       None\n177                               None      ذيل       None\n178                               None  الإجارة       None\n179                               None        .       None\n\n[180 rows x 3 columns]",
      "text/html": "<div>\n<style scoped>\n    .dataframe tbody tr th:only-of-type {\n        vertical-align: middle;\n    }\n\n    .dataframe tbody tr th {\n        vertical-align: top;\n    }\n\n    .dataframe thead th {\n        text-align: right;\n    }\n</style>\n<table border=\"1\" class=\"dataframe\">\n  <thead>\n    <tr style=\"text-align: right;\">\n      <th></th>\n      <th>SECTIONS</th>\n      <th>TOKENS</th>\n      <th>TAGS_LISTS</th>\n    </tr>\n  </thead>\n  <tbody>\n    <tr>\n      <th>0</th>\n      <td>_ء_#=744740694335= ||||| فصل</td>\n      <td>None</td>\n      <td>None</td>\n    </tr>\n    <tr>\n      <th>1</th>\n      <td>_ء_=505195604292= ::UNDEFINED:: ~</td>\n      <td>وإن</td>\n      <td>None</td>\n    </tr>\n    <tr>\n      <th>2</th>\n      <td>None</td>\n      <td>أجرت</td>\n      <td>None</td>\n    </tr>\n    <tr>\n      <th>3</th>\n      <td>None</td>\n      <td>امرأة</td>\n      <td>None</td>\n    </tr>\n    <tr>\n      <th>4</th>\n      <td>None</td>\n      <td>نفسها</td>\n      <td>None</td>\n    </tr>\n    <tr>\n      <th>...</th>\n      <td>...</td>\n      <td>...</td>\n      <td>...</td>\n    </tr>\n    <tr>\n      <th>175</th>\n      <td>None</td>\n      <td>شرحه</td>\n      <td>None</td>\n    </tr>\n    <tr>\n      <th>176</th>\n      <td>None</td>\n      <td>فى</td>\n      <td>None</td>\n    </tr>\n    <tr>\n      <th>177</th>\n      <td>None</td>\n      <td>ذيل</td>\n      <td>None</td>\n    </tr>\n    <tr>\n      <th>178</th>\n      <td>None</td>\n      <td>الإجارة</td>\n      <td>None</td>\n    </tr>\n    <tr>\n      <th>179</th>\n      <td>None</td>\n      <td>.</td>\n      <td>None</td>\n    </tr>\n  </tbody>\n</table>\n<p>180 rows × 3 columns</p>\n</div>"
     },
     "execution_count": 5,
     "metadata": {},
     "output_type": "execute_result"
    }
   ],
   "source": [
    "path = '../../EIS1600_MIUs/data/0733Nuwayri/0733Nuwayri.NihayatArab/MIUs/0733Nuwayri.NihayatArab.Shamela0010283-ara1.744740694335.EIS1600'\n",
    "\n",
    "with open(path, 'r', encoding='utf-8') as miu_file_object:\n",
    "    yml_handler, df_1 = get_yml_and_miu_df(miu_file_object)\n",
    "\n",
    "df_1"
   ],
   "metadata": {
    "collapsed": false,
    "pycharm": {
     "name": "#%%\n"
    }
   }
  },
  {
   "cell_type": "code",
   "execution_count": 6,
   "outputs": [
    {
     "data": {
      "text/plain": "                                              SECTIONS  TOKENS TAGS_LISTS\n0    _ء_#=444873069995= |||| (انتقاض منصور بن إسحاق...    None       None\n1                    _ء_=966191502768= ::UNDEFINED:: ~     كان       None\n2                                                 None  الأمير       None\n3                                                 None    أحمد       None\n4                                                 None      بن       None\n..                                                 ...     ...        ...\n234                                               None     إلى       None\n235                                               None    خدمة       None\n236                                               None  السعيد       None\n237                                               None     نصر       None\n238                                               None       .       None\n\n[239 rows x 3 columns]",
      "text/html": "<div>\n<style scoped>\n    .dataframe tbody tr th:only-of-type {\n        vertical-align: middle;\n    }\n\n    .dataframe tbody tr th {\n        vertical-align: top;\n    }\n\n    .dataframe thead th {\n        text-align: right;\n    }\n</style>\n<table border=\"1\" class=\"dataframe\">\n  <thead>\n    <tr style=\"text-align: right;\">\n      <th></th>\n      <th>SECTIONS</th>\n      <th>TOKENS</th>\n      <th>TAGS_LISTS</th>\n    </tr>\n  </thead>\n  <tbody>\n    <tr>\n      <th>0</th>\n      <td>_ء_#=444873069995= |||| (انتقاض منصور بن إسحاق...</td>\n      <td>None</td>\n      <td>None</td>\n    </tr>\n    <tr>\n      <th>1</th>\n      <td>_ء_=966191502768= ::UNDEFINED:: ~</td>\n      <td>كان</td>\n      <td>None</td>\n    </tr>\n    <tr>\n      <th>2</th>\n      <td>None</td>\n      <td>الأمير</td>\n      <td>None</td>\n    </tr>\n    <tr>\n      <th>3</th>\n      <td>None</td>\n      <td>أحمد</td>\n      <td>None</td>\n    </tr>\n    <tr>\n      <th>4</th>\n      <td>None</td>\n      <td>بن</td>\n      <td>None</td>\n    </tr>\n    <tr>\n      <th>...</th>\n      <td>...</td>\n      <td>...</td>\n      <td>...</td>\n    </tr>\n    <tr>\n      <th>234</th>\n      <td>None</td>\n      <td>إلى</td>\n      <td>None</td>\n    </tr>\n    <tr>\n      <th>235</th>\n      <td>None</td>\n      <td>خدمة</td>\n      <td>None</td>\n    </tr>\n    <tr>\n      <th>236</th>\n      <td>None</td>\n      <td>السعيد</td>\n      <td>None</td>\n    </tr>\n    <tr>\n      <th>237</th>\n      <td>None</td>\n      <td>نصر</td>\n      <td>None</td>\n    </tr>\n    <tr>\n      <th>238</th>\n      <td>None</td>\n      <td>.</td>\n      <td>None</td>\n    </tr>\n  </tbody>\n</table>\n<p>239 rows × 3 columns</p>\n</div>"
     },
     "execution_count": 6,
     "metadata": {},
     "output_type": "execute_result"
    }
   ],
   "source": [
    "path = '../../EIS1600_MIUs/data/0808IbnKhaldun/0808IbnKhaldun.Tarikh/MIUs/0808IbnKhaldun.Tarikh.Shamela0012320-ara1.444873069995.EIS1600'\n",
    "\n",
    "with open(path, 'r', encoding='utf-8') as miu_file_object:\n",
    "    yml_handler, df_1 = get_yml_and_miu_df(miu_file_object)\n",
    "\n",
    "df_1"
   ],
   "metadata": {
    "collapsed": false,
    "pycharm": {
     "name": "#%%\n"
    }
   }
  },
  {
   "cell_type": "code",
   "execution_count": null,
   "outputs": [],
   "source": [],
   "metadata": {
    "collapsed": false,
    "pycharm": {
     "name": "#%%\n"
    }
   }
  }
 ],
 "metadata": {
  "kernelspec": {
   "display_name": "Python 3",
   "language": "python",
   "name": "python3"
  },
  "language_info": {
   "codemirror_mode": {
    "name": "ipython",
    "version": 2
   },
   "file_extension": ".py",
   "mimetype": "text/x-python",
   "name": "python",
   "nbconvert_exporter": "python",
   "pygments_lexer": "ipython2",
   "version": "2.7.6"
  }
 },
 "nbformat": 4,
 "nbformat_minor": 0
}