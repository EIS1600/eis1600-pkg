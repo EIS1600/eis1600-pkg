{
 "cells": [
  {
   "cell_type": "code",
   "execution_count": 3,
   "metadata": {
    "collapsed": true
   },
   "outputs": [],
   "source": [
    "from eis1600.miu.yml_handling import extract_yml_header_and_text\n",
    "from eis1600.miu.YAMLHandler import YAMLHandler"
   ]
  },
  {
   "cell_type": "code",
   "execution_count": 4,
   "outputs": [
    {
     "name": "stdout",
     "output_type": "stream",
     "text": [
      "val: REVIEWED\n",
      "val: LM\n",
      "val: \"\"حرف الحاء المهملة\"\"\n",
      "val: \"\"من اسمه حمزة\"\"\n",
      "val: [\"ÜY4B0818Y\",\"ÜY3X0073Y\",\"ÜY3D0074Y\"]\n",
      "#MIU#Header#Begin#\n",
      "\n",
      "reviewed    : REVIEWED\n",
      "reviewer    : LM\n",
      "headings    : \n",
      "    - h1    : \"حرف الحاء المهملة\"\n",
      "    - h2    : \"من اسمه حمزة\"\n",
      "dates    : [\"ÜY4B0818Y\",\"ÜY3X0073Y\",\"ÜY3D0074Y\"]\n",
      "\n",
      "#MIU#Header#End#\n",
      "\n",
      "\n"
     ]
    }
   ],
   "source": [
    "path = '../../OpenITI_EIS1600_MIUs/training_data/0902Sakhawi.DawLamic.JK003608-ara1.483066402363.EIS1600'\n",
    "\n",
    "with open(path, 'r+', encoding='utf-8') as miu_file_object:\n",
    "    yml_str, text = extract_yml_header_and_text(miu_file_object, False)\n",
    "    yml = YAMLHandler().from_yml_str(yml_str)\n",
    "\n",
    "    print(yml)"
   ],
   "metadata": {
    "collapsed": false,
    "pycharm": {
     "name": "#%%\n"
    }
   }
  }
 ],
 "metadata": {
  "kernelspec": {
   "display_name": "Python 3",
   "language": "python",
   "name": "python3"
  },
  "language_info": {
   "codemirror_mode": {
    "name": "ipython",
    "version": 2
   },
   "file_extension": ".py",
   "mimetype": "text/x-python",
   "name": "python",
   "nbconvert_exporter": "python",
   "pygments_lexer": "ipython2",
   "version": "2.7.6"
  }
 },
 "nbformat": 4,
 "nbformat_minor": 0
}