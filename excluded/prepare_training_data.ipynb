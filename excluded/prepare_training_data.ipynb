{
 "cells": [
  {
   "cell_type": "code",
   "execution_count": 6,
   "metadata": {
    "collapsed": true
   },
   "outputs": [],
   "source": [
    "from pandas import read_csv"
   ]
  },
  {
   "cell_type": "code",
   "execution_count": null,
   "outputs": [],
   "source": [
    "categories = [\"TOB\", \"TOD\", \"TOK\", \"TOM\", \"TOP\", \"TOR\"]\n",
    "BIO = [\"B\", \"I\"]\n",
    "\n",
    "labels = [bi + \"-\" + c for c in categories for bi in BIO] + [\"O\"]\n",
    "print(labels)"
   ],
   "metadata": {
    "collapsed": false,
    "pycharm": {
     "name": "#%%\n"
    }
   }
  },
  {
   "cell_type": "code",
   "execution_count": 5,
   "outputs": [
    {
     "name": "stdout",
     "output_type": "stream",
     "text": [
      "{'B-TOB': 0, 'I-TOB': 1, 'B-TOD': 2, 'I-TOD': 3, 'B-TOK': 4, 'I-TOK': 5, 'B-TOM': 6, 'I-TOM': 7, 'B-TOP': 8, 'I-TOP': 9, 'B-TOR': 10, 'I-TOR': 11, 'O': 12}\n"
     ]
    }
   ],
   "source": [
    "label_dict = {}\n",
    "\n",
    "for i, label in enumerate(labels):\n",
    "  label_dict[label] = i\n",
    "\n",
    "print(label_dict)"
   ],
   "metadata": {
    "collapsed": false,
    "pycharm": {
     "name": "#%%\n"
    }
   }
  },
  {
   "cell_type": "code",
   "execution_count": null,
   "outputs": [],
   "source": [
    "record = read_csv('../Training_Data/gold_standard_topo/0764Safadi.WafiBiWafayat.JK003609-ara1.843373946092.EIS1600')"
   ],
   "metadata": {
    "collapsed": false,
    "pycharm": {
     "name": "#%%\n"
    }
   }
  }
 ],
 "metadata": {
  "kernelspec": {
   "display_name": "Python 3",
   "language": "python",
   "name": "python3"
  },
  "language_info": {
   "codemirror_mode": {
    "name": "ipython",
    "version": 2
   },
   "file_extension": ".py",
   "mimetype": "text/x-python",
   "name": "python",
   "nbconvert_exporter": "python",
   "pygments_lexer": "ipython2",
   "version": "2.7.6"
  }
 },
 "nbformat": 4,
 "nbformat_minor": 0
}