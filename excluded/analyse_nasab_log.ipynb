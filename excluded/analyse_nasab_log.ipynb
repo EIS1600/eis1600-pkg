{
 "cells": [
  {
   "cell_type": "code",
   "execution_count": 19,
   "metadata": {
    "collapsed": true
   },
   "outputs": [],
   "source": [
    "import pandas as pd"
   ]
  },
  {
   "cell_type": "code",
   "execution_count": 20,
   "outputs": [],
   "source": [
    "path = '../../OpenITI_EIS1600_MIUs/logs/nasab_unknown.log'"
   ],
   "metadata": {
    "collapsed": false,
    "pycharm": {
     "name": "#%%\n"
    }
   }
  },
  {
   "cell_type": "code",
   "execution_count": 21,
   "outputs": [
    {
     "data": {
      "text/plain": "                 0\n0             محمد\n1           الظفري\n2             أحمد\n3            الدين\n4            ومنهم\n...            ...\n2933    من أمرائها\n2934  أمرائها وكان\n2935    وكان جوادا\n2936    جوادا تولى\n2937         الحسن\n\n[2938 rows x 1 columns]",
      "text/html": "<div>\n<style scoped>\n    .dataframe tbody tr th:only-of-type {\n        vertical-align: middle;\n    }\n\n    .dataframe tbody tr th {\n        vertical-align: top;\n    }\n\n    .dataframe thead th {\n        text-align: right;\n    }\n</style>\n<table border=\"1\" class=\"dataframe\">\n  <thead>\n    <tr style=\"text-align: right;\">\n      <th></th>\n      <th>0</th>\n    </tr>\n  </thead>\n  <tbody>\n    <tr>\n      <th>0</th>\n      <td>محمد</td>\n    </tr>\n    <tr>\n      <th>1</th>\n      <td>الظفري</td>\n    </tr>\n    <tr>\n      <th>2</th>\n      <td>أحمد</td>\n    </tr>\n    <tr>\n      <th>3</th>\n      <td>الدين</td>\n    </tr>\n    <tr>\n      <th>4</th>\n      <td>ومنهم</td>\n    </tr>\n    <tr>\n      <th>...</th>\n      <td>...</td>\n    </tr>\n    <tr>\n      <th>2933</th>\n      <td>من أمرائها</td>\n    </tr>\n    <tr>\n      <th>2934</th>\n      <td>أمرائها وكان</td>\n    </tr>\n    <tr>\n      <th>2935</th>\n      <td>وكان جوادا</td>\n    </tr>\n    <tr>\n      <th>2936</th>\n      <td>جوادا تولى</td>\n    </tr>\n    <tr>\n      <th>2937</th>\n      <td>الحسن</td>\n    </tr>\n  </tbody>\n</table>\n<p>2938 rows × 1 columns</p>\n</div>"
     },
     "execution_count": 21,
     "metadata": {},
     "output_type": "execute_result"
    }
   ],
   "source": [
    "unknown_s = pd.read_csv(path, header=None)\n",
    "unknown_s"
   ],
   "metadata": {
    "collapsed": false,
    "pycharm": {
     "name": "#%%\n"
    }
   }
  },
  {
   "cell_type": "code",
   "execution_count": 22,
   "outputs": [
    {
     "data": {
      "text/plain": "محمد            217\nأحمد             89\nه                56\nالوفاة           56\nعلي              49\n               ... \nالكلاسة           1\nالكلاس            1\nالكريم            1\nالكرم             1\nيونس الأقباي      1\nLength: 1445, dtype: int64"
     },
     "execution_count": 22,
     "metadata": {},
     "output_type": "execute_result"
    }
   ],
   "source": [
    "unknown_vc = unknown_s.value_counts()\n",
    "unknown_vc.to_csv('../../OpenITI_EIS1600_MIUs/logs/nasab_unknown_vc.csv')\n",
    "unknown_vc"
   ],
   "metadata": {
    "collapsed": false,
    "pycharm": {
     "name": "#%%\n"
    }
   }
  }
 ],
 "metadata": {
  "kernelspec": {
   "display_name": "Python 3",
   "language": "python",
   "name": "python3"
  },
  "language_info": {
   "codemirror_mode": {
    "name": "ipython",
    "version": 2
   },
   "file_extension": ".py",
   "mimetype": "text/x-python",
   "name": "python",
   "nbconvert_exporter": "python",
   "pygments_lexer": "ipython2",
   "version": "2.7.6"
  }
 },
 "nbformat": 4,
 "nbformat_minor": 0
}