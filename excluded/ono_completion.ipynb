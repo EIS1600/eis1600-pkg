{
 "cells": [
  {
   "cell_type": "code",
   "execution_count": 1,
   "metadata": {
    "collapsed": true
   },
   "outputs": [],
   "source": [
    "import pandas as pd"
   ]
  },
  {
   "cell_type": "code",
   "execution_count": 2,
   "outputs": [],
   "source": [
    "oa = pd.read_csv('../../OnomasticonArabicum2020/oa2020/ono_gazetteer.csv')"
   ],
   "metadata": {
    "collapsed": false,
    "pycharm": {
     "name": "#%%\n"
    }
   }
  },
  {
   "cell_type": "markdown",
   "source": [
    "Some elements appear in multiple categories - only include elem with its most frequent category"
   ],
   "metadata": {
    "collapsed": false,
    "pycharm": {
     "name": "#%% md\n"
    }
   }
  },
  {
   "cell_type": "code",
   "execution_count": 3,
   "outputs": [],
   "source": [
    "oa.sort_values(by=['COUNT'], ascending=False, inplace=True)\n",
    "oa.drop_duplicates(subset=['TEXT'], inplace=True)"
   ],
   "metadata": {
    "collapsed": false,
    "pycharm": {
     "name": "#%%\n"
    }
   }
  },
  {
   "cell_type": "code",
   "execution_count": 4,
   "outputs": [],
   "source": [
    "prefixes = ['ف', 'و']\n",
    "suffixes = ['ه', 'ت', 'ها']"
   ],
   "metadata": {
    "collapsed": false,
    "pycharm": {
     "name": "#%%\n"
    }
   }
  },
  {
   "cell_type": "code",
   "execution_count": 5,
   "outputs": [],
   "source": [
    "exp = oa.loc[(oa['CATEGORY'] == 'EXP') & (oa['COUNT'] > 2), 'TEXT'].to_list()\n",
    "exp.extend(['اسمه', 'ثم', 'يعني', 'من أهل ', 'أهل ال', 'والد', 'الأصل', 'أصله من', 'كان من', 'الماضي', 'الآتي', 'نسبة', 'يعرف كسلفه ب', 'يعرف ب', 'تعرف ب', 'نزيل', 'كان يسكن ب', 'زوج'])\n",
    "exp_prefixed = [prefix + elem for prefix in prefixes for elem in exp]\n",
    "exp_prefixed.extend(exp)\n",
    "og_exp = [elem[:-1] if elem[-2:] == 'به' else elem for elem in exp_prefixed]"
   ],
   "metadata": {
    "collapsed": false,
    "pycharm": {
     "name": "#%%\n"
    }
   }
  },
  {
   "cell_type": "code",
   "execution_count": 6,
   "outputs": [],
   "source": [
    "og_ism = oa.loc[(oa['CATEGORY'] == 'ISM') & (oa['COUNT'] > 2), 'TEXT'].to_list()\n",
    "og_ism.extend(['عبد شمس', 'عبد الرحمن', 'ألف'])\n",
    "og_kun = oa.loc[(oa['CATEGORY'] == 'KUN') & (oa['COUNT'] > 2), 'TEXT'].to_list()\n",
    "og_nsb = oa.loc[(oa['CATEGORY'] == 'NSB') & (oa['COUNT'] > 2), 'TEXT'].to_list()\n",
    "og_swm = oa.loc[(oa['CATEGORY'] == 'SWM') & (oa['COUNT'] > 2), 'TEXT'].to_list()"
   ],
   "metadata": {
    "collapsed": false,
    "pycharm": {
     "name": "#%%\n"
    }
   }
  },
  {
   "cell_type": "code",
   "execution_count": 7,
   "outputs": [],
   "source": [
    "laq = oa.loc[(oa['CATEGORY'] == 'LAQ') & (oa['COUNT'] > 2), 'TEXT'].to_list()\n",
    "laq.extend(['ال' + l.split()[0] for l in laq if ' الدين' in l])\n",
    "og_laq = list(set(laq))"
   ],
   "metadata": {
    "collapsed": false,
    "pycharm": {
     "name": "#%%\n"
    }
   }
  },
  {
   "cell_type": "code",
   "execution_count": 8,
   "outputs": [],
   "source": [
    "end = ['ولد', 'روى', 'عن', 'يروي', 'تروي', 'سمع', 'حدث', 'قرأ', 'أخذ', 'حكى', 'أخبرنا', 'تفق', 'ذكر', 'وفد',\n",
    "      'قد', 'توفي', 'مات', 'مولد', 'أجاز', 'أنبأنا', 'قدم']\n",
    "end_prefixed = [prefix + elem for prefix in prefixes for elem in end]\n",
    "end_prefixed.extend(end)\n",
    "end_prefixed.extend([elem + suffix for suffix in suffixes for elem in end])\n",
    "og_end = end_prefixed + end + ['NASAB']"
   ],
   "metadata": {
    "collapsed": false,
    "pycharm": {
     "name": "#%%\n"
    }
   }
  },
  {
   "cell_type": "code",
   "execution_count": 9,
   "outputs": [],
   "source": [
    "data = [('END', elem) for elem in og_end]\n",
    "data.extend([('EXP', elem) for elem in og_exp])\n",
    "data.extend([('ISM', elem) for elem in og_ism])\n",
    "data.extend([('KUN', elem) for elem in og_kun])\n",
    "data.extend([('LAQ', elem) for elem in og_laq])\n",
    "data.extend([('NSB', elem) for elem in og_nsb])\n",
    "# Female forms of NSB\n",
    "data.extend([('NSB', elem + 'ة') for elem in og_nsb if elem.endswith('ي')])\n",
    "data.extend([('SWM', elem) for elem in og_swm])"
   ],
   "metadata": {
    "collapsed": false,
    "pycharm": {
     "name": "#%%\n"
    }
   }
  },
  {
   "cell_type": "code",
   "execution_count": 10,
   "outputs": [],
   "source": [
    "def get_len(value):\n",
    "    return len(value.split())"
   ],
   "metadata": {
    "collapsed": false,
    "pycharm": {
     "name": "#%%\n"
    }
   }
  },
  {
   "cell_type": "code",
   "execution_count": 11,
   "outputs": [],
   "source": [
    "og_df = pd.DataFrame(data, columns=['CATEGORY', 'VALUE'])\n",
    "og_df.drop_duplicates(inplace=True)\n",
    "og_df['NGRAM'] = og_df['VALUE'].apply(get_len)\n",
    "og_df.to_csv('../eis1600/gazetteers/data/onomastic_gazetteer.csv', index=False)\n",
    "og_df.to_csv('../../OnomasticonArabicum2020/oa2020/onomastic_gazetteer.csv', index=False)"
   ],
   "metadata": {
    "collapsed": false,
    "pycharm": {
     "name": "#%%\n"
    }
   }
  },
  {
   "cell_type": "code",
   "execution_count": 11,
   "outputs": [],
   "source": [],
   "metadata": {
    "collapsed": false,
    "pycharm": {
     "name": "#%%\n"
    }
   }
  }
 ],
 "metadata": {
  "kernelspec": {
   "display_name": "Python 3",
   "language": "python",
   "name": "python3"
  },
  "language_info": {
   "codemirror_mode": {
    "name": "ipython",
    "version": 2
   },
   "file_extension": ".py",
   "mimetype": "text/x-python",
   "name": "python",
   "nbconvert_exporter": "python",
   "pygments_lexer": "ipython2",
   "version": "2.7.6"
  }
 },
 "nbformat": 4,
 "nbformat_minor": 0
}