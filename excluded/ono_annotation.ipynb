{
 "cells": [
  {
   "cell_type": "code",
   "execution_count": 1,
   "metadata": {
    "collapsed": true
   },
   "outputs": [],
   "source": [
    "from pathlib import Path\n",
    "from typing import List, Tuple, Type\n",
    "from glob import glob\n",
    "from eis1600.gazetteers.Onomastic import Onomastic\n",
    "from eis1600.onomastics.re_pattern import ABU_ABI, IBN_IBNA, BN_BNT, DIN_DAULA, DATES, PARENTHESIS, PUNCTUATION, SPACES, QUOTES, UMM, BANU_BANI\n",
    "from eis1600.preprocessing.methods import get_yml_and_MIU_df"
   ]
  },
  {
   "cell_type": "code",
   "execution_count": 2,
   "outputs": [],
   "source": [
    "def nasab_analysis(file: Path, og: Type[Onomastic]) -> Tuple[List[str], str, str, str]:\n",
    "    with open(file, 'r', encoding='utf-8') as miu_file_object:\n",
    "        yml_header, df = get_yml_and_MIU_df(miu_file_object)\n",
    "\n",
    "    # if not yml_header.is_bio():\n",
    "    #     return [], '', ''\n",
    "\n",
    "    idcs = df[df['TOKENS'].isin(og.end())].index\n",
    "    idx = idcs[0] if idcs.any() else min(99, len(df))\n",
    "\n",
    "    text = ' '.join(df['TOKENS'][df['TOKENS'].notna()].iloc[:idx - 1])\n",
    "    text_w_cutoff = f'{file}\\n' + ' '.join(df['TOKENS'][df['TOKENS'].notna()].iloc[:idx])\n",
    "\n",
    "    text_mnpld = text\n",
    "    text_mnpld = PARENTHESIS.sub(r'\\g<1>', text_mnpld)\n",
    "    text_mnpld = QUOTES.sub('', text_mnpld)\n",
    "    text_mnpld = DATES.sub('', text_mnpld)\n",
    "    text_mnpld = PUNCTUATION.sub('', text_mnpld)\n",
    "    text_mnpld = SPACES.sub(' ', text_mnpld)\n",
    "    text_mnpld = ABU_ABI.sub('ابو_', text_mnpld)\n",
    "    text_mnpld = UMM.sub('ام_', text_mnpld)\n",
    "    text_mnpld = IBN_IBNA.sub(r'ا\\g<1>_', text_mnpld)\n",
    "    text_mnpld = BN_BNT.sub(r'_\\g<1>_', text_mnpld)\n",
    "    text_mnpld = DIN_DAULA.sub(r'_\\g<1>', text_mnpld)\n",
    "    text_mnpld = BANU_BANI.sub('<بنو_', text_mnpld)\n",
    "    for elem, repl in og.replacements():\n",
    "        text_mnpld = text_mnpld.replace(elem, repl)\n",
    "\n",
    "    tokens = text_mnpld.split()\n",
    "    unknown = [t for t in tokens if '_' not in t and t not in og.total()]\n",
    "\n",
    "    return unknown, text, text_mnpld, text_w_cutoff"
   ],
   "metadata": {
    "collapsed": false,
    "pycharm": {
     "name": "#%%\n"
    }
   }
  },
  {
   "cell_type": "code",
   "execution_count": 3,
   "outputs": [],
   "source": [
    "og = Onomastic.instance()\n",
    "infiles = glob('../../OpenITI_EIS1600_MIUs/training_data/*.EIS1600')[0:100]"
   ],
   "metadata": {
    "collapsed": false,
    "pycharm": {
     "name": "#%%\n"
    }
   }
  },
  {
   "cell_type": "code",
   "execution_count": 4,
   "outputs": [],
   "source": [
    "res = []\n",
    "for infile in infiles:\n",
    "    res.append(nasab_analysis(infile, og))"
   ],
   "metadata": {
    "collapsed": false,
    "pycharm": {
     "name": "#%%\n"
    }
   }
  },
  {
   "cell_type": "code",
   "execution_count": 5,
   "outputs": [
    {
     "ename": "ValueError",
     "evalue": "too many values to unpack (expected 3)",
     "output_type": "error",
     "traceback": [
      "\u001B[0;31m---------------------------------------------------------------------------\u001B[0m",
      "\u001B[0;31mValueError\u001B[0m                                Traceback (most recent call last)",
      "Cell \u001B[0;32mIn [5], line 1\u001B[0m\n\u001B[0;32m----> 1\u001B[0m UNKNOWN, NASABS, MANIPULATED \u001B[38;5;241m=\u001B[39m \u001B[38;5;28mzip\u001B[39m(\u001B[38;5;241m*\u001B[39mres)\n\u001B[1;32m      2\u001B[0m unkown_flat \u001B[38;5;241m=\u001B[39m [elem \u001B[38;5;28;01mfor\u001B[39;00m sub \u001B[38;5;129;01min\u001B[39;00m UNKNOWN \u001B[38;5;28;01mfor\u001B[39;00m elem \u001B[38;5;129;01min\u001B[39;00m sub]\n\u001B[1;32m      3\u001B[0m unkown_flat\n",
      "\u001B[0;31mValueError\u001B[0m: too many values to unpack (expected 3)"
     ]
    }
   ],
   "source": [
    "UNKNOWN, TEXT, MANIPULATED, text_w_cutoff = zip(*res)\n",
    "unkown_flat = [elem for sub in UNKNOWN for elem in sub]\n",
    "unkown_flat"
   ],
   "metadata": {
    "collapsed": false,
    "pycharm": {
     "name": "#%%\n"
    }
   }
  }
 ],
 "metadata": {
  "kernelspec": {
   "display_name": "Python 3",
   "language": "python",
   "name": "python3"
  },
  "language_info": {
   "codemirror_mode": {
    "name": "ipython",
    "version": 2
   },
   "file_extension": ".py",
   "mimetype": "text/x-python",
   "name": "python",
   "nbconvert_exporter": "python",
   "pygments_lexer": "ipython2",
   "version": "2.7.6"
  }
 },
 "nbformat": 4,
 "nbformat_minor": 0
}