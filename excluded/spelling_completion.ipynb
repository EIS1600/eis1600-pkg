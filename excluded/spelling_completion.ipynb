{
 "cells": [
  {
   "cell_type": "code",
   "execution_count": 46,
   "metadata": {
    "collapsed": true
   },
   "outputs": [],
   "source": [
    "import pandas as pd\n",
    "import re"
   ]
  },
  {
   "cell_type": "code",
   "execution_count": 36,
   "outputs": [],
   "source": [
    "def splitit(alt):\n",
    "    x = alt.split(', ')\n",
    "    if x != ['']:\n",
    "        return x\n",
    "    return None"
   ],
   "metadata": {
    "collapsed": false,
    "pycharm": {
     "name": "#%%\n"
    }
   }
  },
  {
   "cell_type": "code",
   "execution_count": 37,
   "outputs": [
    {
     "data": {
      "text/plain": "   CATEGORY       VALUE                     ALTERNATIVES        TRANSLATION\n0       LET         ألف                             None                NaN\n1       LET         باء                             None                NaN\n2       LET         تاء                             None                NaN\n3       LET         ثاء                             None                NaN\n4       LET         جيم                             None                NaN\n5       LET         حاء                             None                NaN\n6       LET         خاء                             None                NaN\n7       LET         داء                            [دال]                NaN\n8       LET         ذاء                            [ذال]                NaN\n9       LET         راء                             None                NaN\n10      LET         زاء                       [زاي, زين]                NaN\n11      LET         سين                             None                NaN\n12      LET         شين                             None                NaN\n13      LET         صاد                             None                NaN\n14      LET         ضاد                             None                NaN\n15      LET         طاء                             None                NaN\n16      LET         ظاء                             None                NaN\n17      LET         عين                             None                NaN\n18      LET         غين                             None                NaN\n19      LET         فاء                             None                NaN\n20      LET         قاف                             None                NaN\n21      LET         كاف                            [كاء]                NaN\n22      LET         لام                             None                NaN\n23      LET         ميم                             None                NaN\n24      LET         نون                             None                NaN\n25      LET         هاء                             None                NaN\n26      LET         واو                             None                NaN\n27      LET         ياء                             None                NaN\n28      LET        همزة                             None                NaN\n29      LET  تاء مربوطة                      [تاء تأنيث]                NaN\n30      LET  ألف مقصورة                             None                NaN\n31      LET   تاء ثالثة                             None                NaN\n32      DIA        فتحة  [فتح, مفتوحة, فتحتين, مفتوحتين]                NaN\n33      DIA         ضمة    [ضم, مضمومة, ضمتين, مضمومتين]                NaN\n34      DIA        كسرة  [كسر, مكسورة، كسرتين, مكسورتين]                NaN\n35      DIA         مدة                             None                NaN\n36      DIA         شدة                   [مشددة, تشديد]                NaN\n37      DIA        سكون                          [ساكنة]                NaN\n38      EXP         دون                             None                NaN\n39      EXP          ثم                             None                NaN\n40      EXP       بعدها                             None                NaN\n41      EXP      بينهما                             None                NaN\n42      EXP       معجمة                             None            pointed\n43      EXP        حروف                     [آخر الحروف]     No diacritic ?\n44      EXP       مهملة                        [مهملتين]          unpointed\n45      EXP       موحدة                        [موحدتين]   having one point\n46      EXP       مثناة                        [مثناتين]  having two points\n47      EXP        أولى                             None          the first\n48      EXP       ثانية                             None         the second\n49      EXP       ثالثة                             None                NaN\n50      EXP     في آخره                             None         at the end\n51      EXP        آخره                             None         it ends on\n52      EXP        أوله                             None           at first\n53      EXP     تحتانية                             None      lower/under ?\n54      EXP       تصريف                             None         Inflection",
      "text/html": "<div>\n<style scoped>\n    .dataframe tbody tr th:only-of-type {\n        vertical-align: middle;\n    }\n\n    .dataframe tbody tr th {\n        vertical-align: top;\n    }\n\n    .dataframe thead th {\n        text-align: right;\n    }\n</style>\n<table border=\"1\" class=\"dataframe\">\n  <thead>\n    <tr style=\"text-align: right;\">\n      <th></th>\n      <th>CATEGORY</th>\n      <th>VALUE</th>\n      <th>ALTERNATIVES</th>\n      <th>TRANSLATION</th>\n    </tr>\n  </thead>\n  <tbody>\n    <tr>\n      <th>0</th>\n      <td>LET</td>\n      <td>ألف</td>\n      <td>None</td>\n      <td>NaN</td>\n    </tr>\n    <tr>\n      <th>1</th>\n      <td>LET</td>\n      <td>باء</td>\n      <td>None</td>\n      <td>NaN</td>\n    </tr>\n    <tr>\n      <th>2</th>\n      <td>LET</td>\n      <td>تاء</td>\n      <td>None</td>\n      <td>NaN</td>\n    </tr>\n    <tr>\n      <th>3</th>\n      <td>LET</td>\n      <td>ثاء</td>\n      <td>None</td>\n      <td>NaN</td>\n    </tr>\n    <tr>\n      <th>4</th>\n      <td>LET</td>\n      <td>جيم</td>\n      <td>None</td>\n      <td>NaN</td>\n    </tr>\n    <tr>\n      <th>5</th>\n      <td>LET</td>\n      <td>حاء</td>\n      <td>None</td>\n      <td>NaN</td>\n    </tr>\n    <tr>\n      <th>6</th>\n      <td>LET</td>\n      <td>خاء</td>\n      <td>None</td>\n      <td>NaN</td>\n    </tr>\n    <tr>\n      <th>7</th>\n      <td>LET</td>\n      <td>داء</td>\n      <td>[دال]</td>\n      <td>NaN</td>\n    </tr>\n    <tr>\n      <th>8</th>\n      <td>LET</td>\n      <td>ذاء</td>\n      <td>[ذال]</td>\n      <td>NaN</td>\n    </tr>\n    <tr>\n      <th>9</th>\n      <td>LET</td>\n      <td>راء</td>\n      <td>None</td>\n      <td>NaN</td>\n    </tr>\n    <tr>\n      <th>10</th>\n      <td>LET</td>\n      <td>زاء</td>\n      <td>[زاي, زين]</td>\n      <td>NaN</td>\n    </tr>\n    <tr>\n      <th>11</th>\n      <td>LET</td>\n      <td>سين</td>\n      <td>None</td>\n      <td>NaN</td>\n    </tr>\n    <tr>\n      <th>12</th>\n      <td>LET</td>\n      <td>شين</td>\n      <td>None</td>\n      <td>NaN</td>\n    </tr>\n    <tr>\n      <th>13</th>\n      <td>LET</td>\n      <td>صاد</td>\n      <td>None</td>\n      <td>NaN</td>\n    </tr>\n    <tr>\n      <th>14</th>\n      <td>LET</td>\n      <td>ضاد</td>\n      <td>None</td>\n      <td>NaN</td>\n    </tr>\n    <tr>\n      <th>15</th>\n      <td>LET</td>\n      <td>طاء</td>\n      <td>None</td>\n      <td>NaN</td>\n    </tr>\n    <tr>\n      <th>16</th>\n      <td>LET</td>\n      <td>ظاء</td>\n      <td>None</td>\n      <td>NaN</td>\n    </tr>\n    <tr>\n      <th>17</th>\n      <td>LET</td>\n      <td>عين</td>\n      <td>None</td>\n      <td>NaN</td>\n    </tr>\n    <tr>\n      <th>18</th>\n      <td>LET</td>\n      <td>غين</td>\n      <td>None</td>\n      <td>NaN</td>\n    </tr>\n    <tr>\n      <th>19</th>\n      <td>LET</td>\n      <td>فاء</td>\n      <td>None</td>\n      <td>NaN</td>\n    </tr>\n    <tr>\n      <th>20</th>\n      <td>LET</td>\n      <td>قاف</td>\n      <td>None</td>\n      <td>NaN</td>\n    </tr>\n    <tr>\n      <th>21</th>\n      <td>LET</td>\n      <td>كاف</td>\n      <td>[كاء]</td>\n      <td>NaN</td>\n    </tr>\n    <tr>\n      <th>22</th>\n      <td>LET</td>\n      <td>لام</td>\n      <td>None</td>\n      <td>NaN</td>\n    </tr>\n    <tr>\n      <th>23</th>\n      <td>LET</td>\n      <td>ميم</td>\n      <td>None</td>\n      <td>NaN</td>\n    </tr>\n    <tr>\n      <th>24</th>\n      <td>LET</td>\n      <td>نون</td>\n      <td>None</td>\n      <td>NaN</td>\n    </tr>\n    <tr>\n      <th>25</th>\n      <td>LET</td>\n      <td>هاء</td>\n      <td>None</td>\n      <td>NaN</td>\n    </tr>\n    <tr>\n      <th>26</th>\n      <td>LET</td>\n      <td>واو</td>\n      <td>None</td>\n      <td>NaN</td>\n    </tr>\n    <tr>\n      <th>27</th>\n      <td>LET</td>\n      <td>ياء</td>\n      <td>None</td>\n      <td>NaN</td>\n    </tr>\n    <tr>\n      <th>28</th>\n      <td>LET</td>\n      <td>همزة</td>\n      <td>None</td>\n      <td>NaN</td>\n    </tr>\n    <tr>\n      <th>29</th>\n      <td>LET</td>\n      <td>تاء مربوطة</td>\n      <td>[تاء تأنيث]</td>\n      <td>NaN</td>\n    </tr>\n    <tr>\n      <th>30</th>\n      <td>LET</td>\n      <td>ألف مقصورة</td>\n      <td>None</td>\n      <td>NaN</td>\n    </tr>\n    <tr>\n      <th>31</th>\n      <td>LET</td>\n      <td>تاء ثالثة</td>\n      <td>None</td>\n      <td>NaN</td>\n    </tr>\n    <tr>\n      <th>32</th>\n      <td>DIA</td>\n      <td>فتحة</td>\n      <td>[فتح, مفتوحة, فتحتين, مفتوحتين]</td>\n      <td>NaN</td>\n    </tr>\n    <tr>\n      <th>33</th>\n      <td>DIA</td>\n      <td>ضمة</td>\n      <td>[ضم, مضمومة, ضمتين, مضمومتين]</td>\n      <td>NaN</td>\n    </tr>\n    <tr>\n      <th>34</th>\n      <td>DIA</td>\n      <td>كسرة</td>\n      <td>[كسر, مكسورة، كسرتين, مكسورتين]</td>\n      <td>NaN</td>\n    </tr>\n    <tr>\n      <th>35</th>\n      <td>DIA</td>\n      <td>مدة</td>\n      <td>None</td>\n      <td>NaN</td>\n    </tr>\n    <tr>\n      <th>36</th>\n      <td>DIA</td>\n      <td>شدة</td>\n      <td>[مشددة, تشديد]</td>\n      <td>NaN</td>\n    </tr>\n    <tr>\n      <th>37</th>\n      <td>DIA</td>\n      <td>سكون</td>\n      <td>[ساكنة]</td>\n      <td>NaN</td>\n    </tr>\n    <tr>\n      <th>38</th>\n      <td>EXP</td>\n      <td>دون</td>\n      <td>None</td>\n      <td>NaN</td>\n    </tr>\n    <tr>\n      <th>39</th>\n      <td>EXP</td>\n      <td>ثم</td>\n      <td>None</td>\n      <td>NaN</td>\n    </tr>\n    <tr>\n      <th>40</th>\n      <td>EXP</td>\n      <td>بعدها</td>\n      <td>None</td>\n      <td>NaN</td>\n    </tr>\n    <tr>\n      <th>41</th>\n      <td>EXP</td>\n      <td>بينهما</td>\n      <td>None</td>\n      <td>NaN</td>\n    </tr>\n    <tr>\n      <th>42</th>\n      <td>EXP</td>\n      <td>معجمة</td>\n      <td>None</td>\n      <td>pointed</td>\n    </tr>\n    <tr>\n      <th>43</th>\n      <td>EXP</td>\n      <td>حروف</td>\n      <td>[آخر الحروف]</td>\n      <td>No diacritic ?</td>\n    </tr>\n    <tr>\n      <th>44</th>\n      <td>EXP</td>\n      <td>مهملة</td>\n      <td>[مهملتين]</td>\n      <td>unpointed</td>\n    </tr>\n    <tr>\n      <th>45</th>\n      <td>EXP</td>\n      <td>موحدة</td>\n      <td>[موحدتين]</td>\n      <td>having one point</td>\n    </tr>\n    <tr>\n      <th>46</th>\n      <td>EXP</td>\n      <td>مثناة</td>\n      <td>[مثناتين]</td>\n      <td>having two points</td>\n    </tr>\n    <tr>\n      <th>47</th>\n      <td>EXP</td>\n      <td>أولى</td>\n      <td>None</td>\n      <td>the first</td>\n    </tr>\n    <tr>\n      <th>48</th>\n      <td>EXP</td>\n      <td>ثانية</td>\n      <td>None</td>\n      <td>the second</td>\n    </tr>\n    <tr>\n      <th>49</th>\n      <td>EXP</td>\n      <td>ثالثة</td>\n      <td>None</td>\n      <td>NaN</td>\n    </tr>\n    <tr>\n      <th>50</th>\n      <td>EXP</td>\n      <td>في آخره</td>\n      <td>None</td>\n      <td>at the end</td>\n    </tr>\n    <tr>\n      <th>51</th>\n      <td>EXP</td>\n      <td>آخره</td>\n      <td>None</td>\n      <td>it ends on</td>\n    </tr>\n    <tr>\n      <th>52</th>\n      <td>EXP</td>\n      <td>أوله</td>\n      <td>None</td>\n      <td>at first</td>\n    </tr>\n    <tr>\n      <th>53</th>\n      <td>EXP</td>\n      <td>تحتانية</td>\n      <td>None</td>\n      <td>lower/under ?</td>\n    </tr>\n    <tr>\n      <th>54</th>\n      <td>EXP</td>\n      <td>تصريف</td>\n      <td>None</td>\n      <td>Inflection</td>\n    </tr>\n  </tbody>\n</table>\n</div>"
     },
     "execution_count": 37,
     "metadata": {},
     "output_type": "execute_result"
    }
   ],
   "source": [
    "df = pd.read_csv('../../OnomasticonArabicum2020/oa2020/spelling_gazetteer.csv', converters={'ALTERNATIVES': splitit})\n",
    "df"
   ],
   "metadata": {
    "collapsed": false,
    "pycharm": {
     "name": "#%%\n"
    }
   }
  },
  {
   "cell_type": "code",
   "execution_count": 38,
   "outputs": [],
   "source": [
    "def combine_n_a(row):\n",
    "    if row['ALTERNATIVES']:\n",
    "        return [row['VALUE']] + row['ALTERNATIVES']\n",
    "    return [row['VALUE']]"
   ],
   "metadata": {
    "collapsed": false,
    "pycharm": {
     "name": "#%%\n"
    }
   }
  },
  {
   "cell_type": "code",
   "execution_count": 39,
   "outputs": [
    {
     "data": {
      "text/plain": "   CATEGORY                                  VALUE  \\\n0       LET                                  [ألف]   \n1       LET                                  [باء]   \n2       LET                                  [تاء]   \n3       LET                                  [ثاء]   \n4       LET                                  [جيم]   \n5       LET                                  [حاء]   \n6       LET                                  [خاء]   \n7       LET                             [داء, دال]   \n8       LET                             [ذاء, ذال]   \n9       LET                                  [راء]   \n10      LET                        [زاء, زاي, زين]   \n11      LET                                  [سين]   \n12      LET                                  [شين]   \n13      LET                                  [صاد]   \n14      LET                                  [ضاد]   \n15      LET                                  [طاء]   \n16      LET                                  [ظاء]   \n17      LET                                  [عين]   \n18      LET                                  [غين]   \n19      LET                                  [فاء]   \n20      LET                                  [قاف]   \n21      LET                             [كاف, كاء]   \n22      LET                                  [لام]   \n23      LET                                  [ميم]   \n24      LET                                  [نون]   \n25      LET                                  [هاء]   \n26      LET                                  [واو]   \n27      LET                                  [ياء]   \n28      LET                                 [همزة]   \n29      LET                [تاء مربوطة, تاء تأنيث]   \n30      LET                           [ألف مقصورة]   \n31      LET                            [تاء ثالثة]   \n32      DIA  [فتحة, فتح, مفتوحة, فتحتين, مفتوحتين]   \n33      DIA     [ضمة, ضم, مضمومة, ضمتين, مضمومتين]   \n34      DIA  [كسرة, كسر, مكسورة، كسرتين, مكسورتين]   \n35      DIA                                  [مدة]   \n36      DIA                    [شدة, مشددة, تشديد]   \n37      DIA                          [سكون, ساكنة]   \n38      EXP                                  [دون]   \n39      EXP                                   [ثم]   \n40      EXP                                [بعدها]   \n41      EXP                               [بينهما]   \n42      EXP                                [معجمة]   \n43      EXP                     [حروف, آخر الحروف]   \n44      EXP                       [مهملة, مهملتين]   \n45      EXP                       [موحدة, موحدتين]   \n46      EXP                       [مثناة, مثناتين]   \n47      EXP                                 [أولى]   \n48      EXP                                [ثانية]   \n49      EXP                                [ثالثة]   \n50      EXP                              [في آخره]   \n51      EXP                                 [آخره]   \n52      EXP                                 [أوله]   \n53      EXP                              [تحتانية]   \n54      EXP                                [تصريف]   \n\n                       ALTERNATIVES        TRANSLATION  \n0                              None                NaN  \n1                              None                NaN  \n2                              None                NaN  \n3                              None                NaN  \n4                              None                NaN  \n5                              None                NaN  \n6                              None                NaN  \n7                             [دال]                NaN  \n8                             [ذال]                NaN  \n9                              None                NaN  \n10                       [زاي, زين]                NaN  \n11                             None                NaN  \n12                             None                NaN  \n13                             None                NaN  \n14                             None                NaN  \n15                             None                NaN  \n16                             None                NaN  \n17                             None                NaN  \n18                             None                NaN  \n19                             None                NaN  \n20                             None                NaN  \n21                            [كاء]                NaN  \n22                             None                NaN  \n23                             None                NaN  \n24                             None                NaN  \n25                             None                NaN  \n26                             None                NaN  \n27                             None                NaN  \n28                             None                NaN  \n29                      [تاء تأنيث]                NaN  \n30                             None                NaN  \n31                             None                NaN  \n32  [فتح, مفتوحة, فتحتين, مفتوحتين]                NaN  \n33    [ضم, مضمومة, ضمتين, مضمومتين]                NaN  \n34  [كسر, مكسورة، كسرتين, مكسورتين]                NaN  \n35                             None                NaN  \n36                   [مشددة, تشديد]                NaN  \n37                          [ساكنة]                NaN  \n38                             None                NaN  \n39                             None                NaN  \n40                             None                NaN  \n41                             None                NaN  \n42                             None            pointed  \n43                     [آخر الحروف]     No diacritic ?  \n44                        [مهملتين]          unpointed  \n45                        [موحدتين]   having one point  \n46                        [مثناتين]  having two points  \n47                             None          the first  \n48                             None         the second  \n49                             None                NaN  \n50                             None         at the end  \n51                             None         it ends on  \n52                             None           at first  \n53                             None      lower/under ?  \n54                             None         Inflection  ",
      "text/html": "<div>\n<style scoped>\n    .dataframe tbody tr th:only-of-type {\n        vertical-align: middle;\n    }\n\n    .dataframe tbody tr th {\n        vertical-align: top;\n    }\n\n    .dataframe thead th {\n        text-align: right;\n    }\n</style>\n<table border=\"1\" class=\"dataframe\">\n  <thead>\n    <tr style=\"text-align: right;\">\n      <th></th>\n      <th>CATEGORY</th>\n      <th>VALUE</th>\n      <th>ALTERNATIVES</th>\n      <th>TRANSLATION</th>\n    </tr>\n  </thead>\n  <tbody>\n    <tr>\n      <th>0</th>\n      <td>LET</td>\n      <td>[ألف]</td>\n      <td>None</td>\n      <td>NaN</td>\n    </tr>\n    <tr>\n      <th>1</th>\n      <td>LET</td>\n      <td>[باء]</td>\n      <td>None</td>\n      <td>NaN</td>\n    </tr>\n    <tr>\n      <th>2</th>\n      <td>LET</td>\n      <td>[تاء]</td>\n      <td>None</td>\n      <td>NaN</td>\n    </tr>\n    <tr>\n      <th>3</th>\n      <td>LET</td>\n      <td>[ثاء]</td>\n      <td>None</td>\n      <td>NaN</td>\n    </tr>\n    <tr>\n      <th>4</th>\n      <td>LET</td>\n      <td>[جيم]</td>\n      <td>None</td>\n      <td>NaN</td>\n    </tr>\n    <tr>\n      <th>5</th>\n      <td>LET</td>\n      <td>[حاء]</td>\n      <td>None</td>\n      <td>NaN</td>\n    </tr>\n    <tr>\n      <th>6</th>\n      <td>LET</td>\n      <td>[خاء]</td>\n      <td>None</td>\n      <td>NaN</td>\n    </tr>\n    <tr>\n      <th>7</th>\n      <td>LET</td>\n      <td>[داء, دال]</td>\n      <td>[دال]</td>\n      <td>NaN</td>\n    </tr>\n    <tr>\n      <th>8</th>\n      <td>LET</td>\n      <td>[ذاء, ذال]</td>\n      <td>[ذال]</td>\n      <td>NaN</td>\n    </tr>\n    <tr>\n      <th>9</th>\n      <td>LET</td>\n      <td>[راء]</td>\n      <td>None</td>\n      <td>NaN</td>\n    </tr>\n    <tr>\n      <th>10</th>\n      <td>LET</td>\n      <td>[زاء, زاي, زين]</td>\n      <td>[زاي, زين]</td>\n      <td>NaN</td>\n    </tr>\n    <tr>\n      <th>11</th>\n      <td>LET</td>\n      <td>[سين]</td>\n      <td>None</td>\n      <td>NaN</td>\n    </tr>\n    <tr>\n      <th>12</th>\n      <td>LET</td>\n      <td>[شين]</td>\n      <td>None</td>\n      <td>NaN</td>\n    </tr>\n    <tr>\n      <th>13</th>\n      <td>LET</td>\n      <td>[صاد]</td>\n      <td>None</td>\n      <td>NaN</td>\n    </tr>\n    <tr>\n      <th>14</th>\n      <td>LET</td>\n      <td>[ضاد]</td>\n      <td>None</td>\n      <td>NaN</td>\n    </tr>\n    <tr>\n      <th>15</th>\n      <td>LET</td>\n      <td>[طاء]</td>\n      <td>None</td>\n      <td>NaN</td>\n    </tr>\n    <tr>\n      <th>16</th>\n      <td>LET</td>\n      <td>[ظاء]</td>\n      <td>None</td>\n      <td>NaN</td>\n    </tr>\n    <tr>\n      <th>17</th>\n      <td>LET</td>\n      <td>[عين]</td>\n      <td>None</td>\n      <td>NaN</td>\n    </tr>\n    <tr>\n      <th>18</th>\n      <td>LET</td>\n      <td>[غين]</td>\n      <td>None</td>\n      <td>NaN</td>\n    </tr>\n    <tr>\n      <th>19</th>\n      <td>LET</td>\n      <td>[فاء]</td>\n      <td>None</td>\n      <td>NaN</td>\n    </tr>\n    <tr>\n      <th>20</th>\n      <td>LET</td>\n      <td>[قاف]</td>\n      <td>None</td>\n      <td>NaN</td>\n    </tr>\n    <tr>\n      <th>21</th>\n      <td>LET</td>\n      <td>[كاف, كاء]</td>\n      <td>[كاء]</td>\n      <td>NaN</td>\n    </tr>\n    <tr>\n      <th>22</th>\n      <td>LET</td>\n      <td>[لام]</td>\n      <td>None</td>\n      <td>NaN</td>\n    </tr>\n    <tr>\n      <th>23</th>\n      <td>LET</td>\n      <td>[ميم]</td>\n      <td>None</td>\n      <td>NaN</td>\n    </tr>\n    <tr>\n      <th>24</th>\n      <td>LET</td>\n      <td>[نون]</td>\n      <td>None</td>\n      <td>NaN</td>\n    </tr>\n    <tr>\n      <th>25</th>\n      <td>LET</td>\n      <td>[هاء]</td>\n      <td>None</td>\n      <td>NaN</td>\n    </tr>\n    <tr>\n      <th>26</th>\n      <td>LET</td>\n      <td>[واو]</td>\n      <td>None</td>\n      <td>NaN</td>\n    </tr>\n    <tr>\n      <th>27</th>\n      <td>LET</td>\n      <td>[ياء]</td>\n      <td>None</td>\n      <td>NaN</td>\n    </tr>\n    <tr>\n      <th>28</th>\n      <td>LET</td>\n      <td>[همزة]</td>\n      <td>None</td>\n      <td>NaN</td>\n    </tr>\n    <tr>\n      <th>29</th>\n      <td>LET</td>\n      <td>[تاء مربوطة, تاء تأنيث]</td>\n      <td>[تاء تأنيث]</td>\n      <td>NaN</td>\n    </tr>\n    <tr>\n      <th>30</th>\n      <td>LET</td>\n      <td>[ألف مقصورة]</td>\n      <td>None</td>\n      <td>NaN</td>\n    </tr>\n    <tr>\n      <th>31</th>\n      <td>LET</td>\n      <td>[تاء ثالثة]</td>\n      <td>None</td>\n      <td>NaN</td>\n    </tr>\n    <tr>\n      <th>32</th>\n      <td>DIA</td>\n      <td>[فتحة, فتح, مفتوحة, فتحتين, مفتوحتين]</td>\n      <td>[فتح, مفتوحة, فتحتين, مفتوحتين]</td>\n      <td>NaN</td>\n    </tr>\n    <tr>\n      <th>33</th>\n      <td>DIA</td>\n      <td>[ضمة, ضم, مضمومة, ضمتين, مضمومتين]</td>\n      <td>[ضم, مضمومة, ضمتين, مضمومتين]</td>\n      <td>NaN</td>\n    </tr>\n    <tr>\n      <th>34</th>\n      <td>DIA</td>\n      <td>[كسرة, كسر, مكسورة، كسرتين, مكسورتين]</td>\n      <td>[كسر, مكسورة، كسرتين, مكسورتين]</td>\n      <td>NaN</td>\n    </tr>\n    <tr>\n      <th>35</th>\n      <td>DIA</td>\n      <td>[مدة]</td>\n      <td>None</td>\n      <td>NaN</td>\n    </tr>\n    <tr>\n      <th>36</th>\n      <td>DIA</td>\n      <td>[شدة, مشددة, تشديد]</td>\n      <td>[مشددة, تشديد]</td>\n      <td>NaN</td>\n    </tr>\n    <tr>\n      <th>37</th>\n      <td>DIA</td>\n      <td>[سكون, ساكنة]</td>\n      <td>[ساكنة]</td>\n      <td>NaN</td>\n    </tr>\n    <tr>\n      <th>38</th>\n      <td>EXP</td>\n      <td>[دون]</td>\n      <td>None</td>\n      <td>NaN</td>\n    </tr>\n    <tr>\n      <th>39</th>\n      <td>EXP</td>\n      <td>[ثم]</td>\n      <td>None</td>\n      <td>NaN</td>\n    </tr>\n    <tr>\n      <th>40</th>\n      <td>EXP</td>\n      <td>[بعدها]</td>\n      <td>None</td>\n      <td>NaN</td>\n    </tr>\n    <tr>\n      <th>41</th>\n      <td>EXP</td>\n      <td>[بينهما]</td>\n      <td>None</td>\n      <td>NaN</td>\n    </tr>\n    <tr>\n      <th>42</th>\n      <td>EXP</td>\n      <td>[معجمة]</td>\n      <td>None</td>\n      <td>pointed</td>\n    </tr>\n    <tr>\n      <th>43</th>\n      <td>EXP</td>\n      <td>[حروف, آخر الحروف]</td>\n      <td>[آخر الحروف]</td>\n      <td>No diacritic ?</td>\n    </tr>\n    <tr>\n      <th>44</th>\n      <td>EXP</td>\n      <td>[مهملة, مهملتين]</td>\n      <td>[مهملتين]</td>\n      <td>unpointed</td>\n    </tr>\n    <tr>\n      <th>45</th>\n      <td>EXP</td>\n      <td>[موحدة, موحدتين]</td>\n      <td>[موحدتين]</td>\n      <td>having one point</td>\n    </tr>\n    <tr>\n      <th>46</th>\n      <td>EXP</td>\n      <td>[مثناة, مثناتين]</td>\n      <td>[مثناتين]</td>\n      <td>having two points</td>\n    </tr>\n    <tr>\n      <th>47</th>\n      <td>EXP</td>\n      <td>[أولى]</td>\n      <td>None</td>\n      <td>the first</td>\n    </tr>\n    <tr>\n      <th>48</th>\n      <td>EXP</td>\n      <td>[ثانية]</td>\n      <td>None</td>\n      <td>the second</td>\n    </tr>\n    <tr>\n      <th>49</th>\n      <td>EXP</td>\n      <td>[ثالثة]</td>\n      <td>None</td>\n      <td>NaN</td>\n    </tr>\n    <tr>\n      <th>50</th>\n      <td>EXP</td>\n      <td>[في آخره]</td>\n      <td>None</td>\n      <td>at the end</td>\n    </tr>\n    <tr>\n      <th>51</th>\n      <td>EXP</td>\n      <td>[آخره]</td>\n      <td>None</td>\n      <td>it ends on</td>\n    </tr>\n    <tr>\n      <th>52</th>\n      <td>EXP</td>\n      <td>[أوله]</td>\n      <td>None</td>\n      <td>at first</td>\n    </tr>\n    <tr>\n      <th>53</th>\n      <td>EXP</td>\n      <td>[تحتانية]</td>\n      <td>None</td>\n      <td>lower/under ?</td>\n    </tr>\n    <tr>\n      <th>54</th>\n      <td>EXP</td>\n      <td>[تصريف]</td>\n      <td>None</td>\n      <td>Inflection</td>\n    </tr>\n  </tbody>\n</table>\n</div>"
     },
     "execution_count": 39,
     "metadata": {},
     "output_type": "execute_result"
    }
   ],
   "source": [
    "df['VALUE'] = df[['VALUE', 'ALTERNATIVES']].apply(combine_n_a, axis=1)\n",
    "df"
   ],
   "metadata": {
    "collapsed": false,
    "pycharm": {
     "name": "#%%\n"
    }
   }
  },
  {
   "cell_type": "code",
   "execution_count": 40,
   "outputs": [],
   "source": [
    "df.drop(columns=['ALTERNATIVES', 'TRANSLATION'], inplace=True)\n",
    "df_exploded = df.explode('VALUE', ignore_index=True)\n",
    "df_exploded['NGRAM'] = df_exploded['VALUE'].apply(lambda x: len(x.split()))"
   ],
   "metadata": {
    "collapsed": false,
    "pycharm": {
     "name": "#%%\n"
    }
   }
  },
  {
   "cell_type": "code",
   "execution_count": 41,
   "outputs": [],
   "source": [
    "df_exploded.to_csv('../eis1600/gazetteers/data/spelling_gazetteer.csv', index=False)"
   ],
   "metadata": {
    "collapsed": false,
    "pycharm": {
     "name": "#%%\n"
    }
   }
  },
  {
   "cell_type": "code",
   "execution_count": 42,
   "outputs": [],
   "source": [
    "df = pd.read_csv('../eis1600/gazetteers/data/spelling_gazetteer.csv')"
   ],
   "metadata": {
    "collapsed": false,
    "pycharm": {
     "name": "#%%\n"
    }
   }
  },
  {
   "cell_type": "code",
   "execution_count": 48,
   "outputs": [
    {
     "data": {
      "text/plain": "'(?:[أا]لف)|(?:باء)|(?:تاء)|(?:ثاء)|(?:جيم)|(?:حاء)|(?:خاء)|(?:داء)|(?:دال)|(?:ذاء)|(?:ذال)|(?:راء)|(?:زاء)|(?:زاي)|(?:زين)|(?:سين)|(?:شين)|(?:صاد)|(?:ضاد)|(?:طاء)|(?:ظاء)|(?:عين)|(?:غين)|(?:فاء)|(?:قاف)|(?:كاف)|(?:كاء)|(?:لام)|(?:ميم)|(?:نون)|(?:هاء)|(?:واو)|(?:ياء)|(?:همزة)|(?:تاء مربوطة)|(?:تاء ت[أا]نيث)|(?:[أا]لف مقصورة)|(?:تاء ثالثة)|(?:فتحة)|(?:فتح)|(?:مفتوحة)|(?:فتحتين)|(?:مفتوحتين)|(?:ضمة)|(?:ضم)|(?:مضمومة)|(?:ضمتين)|(?:مضمومتين)|(?:كسرة)|(?:كسر)|(?:مكسورة، كسرتين)|(?:مكسورتين)|(?:مدة)|(?:شدة)|(?:مشددة)|(?:تشديد)|(?:سكون)|(?:ساكنة)|(?:دون)|(?:ثم)|(?:بعدها)|(?:بينهما)|(?:معجمة)|(?:حروف)|(?:آخر الحروف)|(?:مهملة)|(?:مهملتين)|(?:موحدة)|(?:موحدتين)|(?:مثناة)|(?:مثناتين)|(?:[أا]ولى)|(?:ثانية)|(?:ثالثة)|(?:في آخره)|(?:آخره)|(?:[أا]وله)|(?:تحتانية)|(?:تصريف)'"
     },
     "execution_count": 48,
     "metadata": {},
     "output_type": "execute_result"
    }
   ],
   "source": [
    "letters_pattern = '|'.join(['(?:' + let + ')' for let in df['VALUE'].to_list()])\n",
    "letters_pattern = letters_pattern.replace('أ', '[أا]')\n",
    "spelling_re = re.compile('([بو]?(?:ال)' + letters_pattern + ' ){2,}')\n",
    "letters_pattern"
   ],
   "metadata": {
    "collapsed": false,
    "pycharm": {
     "name": "#%%\n"
    }
   }
  }
 ],
 "metadata": {
  "kernelspec": {
   "display_name": "Python 3",
   "language": "python",
   "name": "python3"
  },
  "language_info": {
   "codemirror_mode": {
    "name": "ipython",
    "version": 2
   },
   "file_extension": ".py",
   "mimetype": "text/x-python",
   "name": "python",
   "nbconvert_exporter": "python",
   "pygments_lexer": "ipython2",
   "version": "2.7.6"
  }
 },
 "nbformat": 4,
 "nbformat_minor": 0
}