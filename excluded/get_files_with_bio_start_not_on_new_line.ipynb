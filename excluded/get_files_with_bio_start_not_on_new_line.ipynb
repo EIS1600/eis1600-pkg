{
 "cells": [
  {
   "cell_type": "code",
   "execution_count": 50,
   "metadata": {
    "collapsed": true
   },
   "outputs": [],
   "source": [
    "import re\n",
    "\n",
    "from eis1600.helper.repo import read_files_from_autoreport, get_files_from_eis1600_dir\n",
    "from eis1600.markdown.re_patterns import AR_STR, HEADER_END_PATTERN\n",
    "from eis1600.markdown.methods import update_uids"
   ]
  },
  {
   "cell_type": "code",
   "execution_count": 51,
   "outputs": [],
   "source": [
    "# Pattern for content on same line as mARkdown\n",
    "# PATTERN = re.compile('(= [$]+(?:[^\\n' + AR_STR + ']*))(' + AR_STR + r'[^\\n]*)')\n",
    "PATTERN = re.compile('[|]PATATEXT[|]')"
   ],
   "metadata": {
    "collapsed": false,
    "pycharm": {
     "name": "#%%\n"
    }
   }
  },
  {
   "cell_type": "code",
   "execution_count": 52,
   "outputs": [],
   "source": [
    "input_dir = '../../OpenITI_EIS1600_Texts/'\n",
    "files_list = read_files_from_autoreport(input_dir)\n",
    "infiles = get_files_from_eis1600_dir(input_dir, files_list, 'EIS1600')"
   ],
   "metadata": {
    "collapsed": false,
    "pycharm": {
     "name": "#%%\n"
    }
   }
  },
  {
   "cell_type": "code",
   "execution_count": 53,
   "outputs": [
    {
     "name": "stdout",
     "output_type": "stream",
     "text": [
      "data/0852IbnHajarCasqalani/0852IbnHajarCasqalani.LisanMizan/0852IbnHajarCasqalani.LisanMizan.Shamela0036357-ara1.EIS1600\n",
      "1\n"
     ]
    }
   ],
   "source": [
    "count = 0\n",
    "\n",
    "for file in infiles:\n",
    "    update = False\n",
    "\n",
    "    with open(file, 'r+', encoding='utf-8') as fh:\n",
    "        content = fh.read()\n",
    "        update = PATTERN.search(content)\n",
    "\n",
    "        if update:\n",
    "            print(file.lstrip('../../OpenITI_EIS1600_Texts/'))\n",
    "            count += 1\n",
    "\n",
    "            # fh.seek(0)\n",
    "            # fh.write(final)\n",
    "            # fh.truncate()\n",
    "\n",
    "print(count)"
   ],
   "metadata": {
    "collapsed": false,
    "pycharm": {
     "name": "#%%\n"
    }
   }
  }
 ],
 "metadata": {
  "kernelspec": {
   "display_name": "Python 3",
   "language": "python",
   "name": "python3"
  },
  "language_info": {
   "codemirror_mode": {
    "name": "ipython",
    "version": 2
   },
   "file_extension": ".py",
   "mimetype": "text/x-python",
   "name": "python",
   "nbconvert_exporter": "python",
   "pygments_lexer": "ipython2",
   "version": "2.7.6"
  }
 },
 "nbformat": 4,
 "nbformat_minor": 0
}