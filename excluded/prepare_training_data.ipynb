{
 "cells": [
  {
   "cell_type": "code",
   "execution_count": 1,
   "metadata": {
    "collapsed": true
   },
   "outputs": [],
   "source": [
    "from re import compile\n",
    "from eis1600.miu.methods import get_yml_and_miu_df"
   ]
  },
  {
   "cell_type": "code",
   "execution_count": 2,
   "outputs": [],
   "source": [
    "TOP_PATTERN = compile(\"T(?P<num_tokens>\\d)(?P<category>[BDKMPR])\")"
   ],
   "metadata": {
    "collapsed": false,
    "pycharm": {
     "name": "#%%\n"
    }
   }
  },
  {
   "cell_type": "code",
   "execution_count": 3,
   "outputs": [
    {
     "name": "stdout",
     "output_type": "stream",
     "text": [
      "['B-TOB', 'I-TOB', 'B-TOD', 'I-TOD', 'B-TOK', 'I-TOK', 'B-TOM', 'I-TOM', 'B-TOP', 'I-TOP', 'B-TOR', 'I-TOR', 'O']\n"
     ]
    }
   ],
   "source": [
    "categories = [\"TOB\", \"TOD\", \"TOK\", \"TOM\", \"TOP\", \"TOR\", \"TOX\"]\n",
    "BIO = [\"B\", \"I\"]\n",
    "\n",
    "labels = [bi + \"-\" + c for c in categories for bi in BIO] + [\"O\"]\n",
    "print(labels)"
   ],
   "metadata": {
    "collapsed": false,
    "pycharm": {
     "name": "#%%\n"
    }
   }
  },
  {
   "cell_type": "code",
   "execution_count": 4,
   "outputs": [
    {
     "name": "stdout",
     "output_type": "stream",
     "text": [
      "{'B-TOB': 0, 'I-TOB': 1, 'B-TOD': 2, 'I-TOD': 3, 'B-TOK': 4, 'I-TOK': 5, 'B-TOM': 6, 'I-TOM': 7, 'B-TOP': 8, 'I-TOP': 9, 'B-TOR': 10, 'I-TOR': 11, 'O': 12}\n"
     ]
    }
   ],
   "source": [
    "label_dict = {}\n",
    "\n",
    "for i, label in enumerate(labels):\n",
    "  label_dict[label] = i\n",
    "\n",
    "print(label_dict)"
   ],
   "metadata": {
    "collapsed": false,
    "pycharm": {
     "name": "#%%\n"
    }
   }
  },
  {
   "cell_type": "code",
   "execution_count": 5,
   "outputs": [],
   "source": [
    "filepath = \"../../Training_Data/gold_standard_topo/0748Dhahabi.TarikhIslam.MGR20180917-ara1.707162610706\"\n",
    "# filepath = \"../../Training_Data/gold_standard_topo/0764Safadi.WafiBiWafayat.JK003609-ara1.843373946092\"\n",
    "\n",
    "with open(filepath + '.EIS1600', 'r', encoding='utf-8') as miu_file_object:\n",
    "  yml, df = get_yml_and_miu_df(miu_file_object)"
   ],
   "metadata": {
    "collapsed": false,
    "pycharm": {
     "name": "#%%\n"
    }
   }
  },
  {
   "cell_type": "code",
   "execution_count": 6,
   "outputs": [
    {
     "data": {
      "text/plain": "   num_tokens category\n30          2        B\n42          1        R\n76          1        D",
      "text/html": "<div>\n<style scoped>\n    .dataframe tbody tr th:only-of-type {\n        vertical-align: middle;\n    }\n\n    .dataframe tbody tr th {\n        vertical-align: top;\n    }\n\n    .dataframe thead th {\n        text-align: right;\n    }\n</style>\n<table border=\"1\" class=\"dataframe\">\n  <thead>\n    <tr style=\"text-align: right;\">\n      <th></th>\n      <th>num_tokens</th>\n      <th>category</th>\n    </tr>\n  </thead>\n  <tbody>\n    <tr>\n      <th>30</th>\n      <td>2</td>\n      <td>B</td>\n    </tr>\n    <tr>\n      <th>42</th>\n      <td>1</td>\n      <td>R</td>\n    </tr>\n    <tr>\n      <th>76</th>\n      <td>1</td>\n      <td>D</td>\n    </tr>\n  </tbody>\n</table>\n</div>"
     },
     "execution_count": 6,
     "metadata": {},
     "output_type": "execute_result"
    }
   ],
   "source": [
    "s_notna = df['TAGS_LISTS'].loc[df['TAGS_LISTS'].notna()].apply(lambda tag_list: ','.join(tag_list))\n",
    "df_matches = s_notna.str.extract(TOP_PATTERN).dropna()\n",
    "df_matches"
   ],
   "metadata": {
    "collapsed": false,
    "pycharm": {
     "name": "#%%\n"
    }
   }
  },
  {
   "cell_type": "code",
   "execution_count": 7,
   "outputs": [
    {
     "name": "stdout",
     "output_type": "stream",
     "text": [
      "0 2 ['T2B']\n",
      "1 2 ['T2B']\n",
      "0 1 ['T1R']\n",
      "0 1 ['T1D']\n"
     ]
    }
   ],
   "source": [
    "for index, row in df_matches.iterrows():\n",
    "  processed_tokens = 0\n",
    "  num_tokens = int(row['num_tokens'])\n",
    "  while processed_tokens < num_tokens:\n",
    "    print(processed_tokens, num_tokens, df.loc[index, 'TAGS_LISTS'])\n",
    "    if processed_tokens == 0:\n",
    "      df.loc[index, 'BIO'] = 'B-TO' + row['category']\n",
    "    else:\n",
    "      df.loc[index+processed_tokens, 'BIO'] = 'I-TO' + row['category']\n",
    "\n",
    "    processed_tokens += 1"
   ],
   "metadata": {
    "collapsed": false,
    "pycharm": {
     "name": "#%%\n"
    }
   }
  },
  {
   "cell_type": "code",
   "execution_count": 8,
   "outputs": [
    {
     "data": {
      "text/plain": "   SECTIONS    TOKENS TAGS_LISTS    BIO\n29     None  وخمسمائة       None    NaN\n30     None      بحصن      [T2B]  B-TOB\n31     None      كيفا       None  I-TOB\n32     None         .       None    NaN",
      "text/html": "<div>\n<style scoped>\n    .dataframe tbody tr th:only-of-type {\n        vertical-align: middle;\n    }\n\n    .dataframe tbody tr th {\n        vertical-align: top;\n    }\n\n    .dataframe thead th {\n        text-align: right;\n    }\n</style>\n<table border=\"1\" class=\"dataframe\">\n  <thead>\n    <tr style=\"text-align: right;\">\n      <th></th>\n      <th>SECTIONS</th>\n      <th>TOKENS</th>\n      <th>TAGS_LISTS</th>\n      <th>BIO</th>\n    </tr>\n  </thead>\n  <tbody>\n    <tr>\n      <th>29</th>\n      <td>None</td>\n      <td>وخمسمائة</td>\n      <td>None</td>\n      <td>NaN</td>\n    </tr>\n    <tr>\n      <th>30</th>\n      <td>None</td>\n      <td>بحصن</td>\n      <td>[T2B]</td>\n      <td>B-TOB</td>\n    </tr>\n    <tr>\n      <th>31</th>\n      <td>None</td>\n      <td>كيفا</td>\n      <td>None</td>\n      <td>I-TOB</td>\n    </tr>\n    <tr>\n      <th>32</th>\n      <td>None</td>\n      <td>.</td>\n      <td>None</td>\n      <td>NaN</td>\n    </tr>\n  </tbody>\n</table>\n</div>"
     },
     "execution_count": 8,
     "metadata": {},
     "output_type": "execute_result"
    }
   ],
   "source": [
    "df[29:33]"
   ],
   "metadata": {
    "collapsed": false,
    "pycharm": {
     "name": "#%%\n"
    }
   }
  },
  {
   "cell_type": "code",
   "execution_count": 18,
   "outputs": [],
   "source": [
    "df[\"BIO\"].loc[df[\"BIO\"].isna()] = \"O\""
   ],
   "metadata": {
    "collapsed": false,
    "pycharm": {
     "name": "#%%\n"
    }
   }
  },
  {
   "cell_type": "code",
   "execution_count": null,
   "outputs": [],
   "source": [],
   "metadata": {
    "collapsed": false,
    "pycharm": {
     "name": "#%%\n"
    }
   }
  }
 ],
 "metadata": {
  "kernelspec": {
   "display_name": "Python 3",
   "language": "python",
   "name": "python3"
  },
  "language_info": {
   "codemirror_mode": {
    "name": "ipython",
    "version": 2
   },
   "file_extension": ".py",
   "mimetype": "text/x-python",
   "name": "python",
   "nbconvert_exporter": "python",
   "pygments_lexer": "ipython2",
   "version": "2.7.6"
  }
 },
 "nbformat": 4,
 "nbformat_minor": 0
}