{
 "cells": [
  {
   "cell_type": "code",
   "execution_count": 6,
   "metadata": {
    "collapsed": true
   },
   "outputs": [],
   "source": [
    "from eis1600.processing.preprocessing import get_yml_and_miu_df"
   ]
  },
  {
   "cell_type": "code",
   "execution_count": 11,
   "outputs": [],
   "source": [
    "path = '../../EIS1600_MIUs/data/0240KhalifaIbnKhayyat/0240KhalifaIbnKhayyat.Tabaqat/MIUs/0240KhalifaIbnKhayyat.Tabaqat.Shia003056-ara1.425185017973.EIS1600'\n",
    "\n",
    "with open(path, 'r', encoding='utf-8') as miu_file_object:\n",
    "    yml_handler, df = get_yml_and_miu_df(miu_file_object)"
   ],
   "metadata": {
    "collapsed": false,
    "pycharm": {
     "name": "#%%\n"
    }
   }
  },
  {
   "cell_type": "code",
   "execution_count": 12,
   "outputs": [
    {
     "data": {
      "text/plain": "                              SECTIONS TOKENS TAGS_LISTS\n0                _ء_#=425185017973= $$   None       None\n1    _ء_=853423456377= ::UNDEFINED:: ~    وأم       None\n2                                 None  أبيها       None\n3                                 None    بنت       None\n4                                 None   حمزة       None\n..                                 ...    ...        ...\n137                               None   هلال       None\n138                               None     بن       None\n139                               None    عمر       None\n140                               None     بن       None\n141                               None  مخزوم       None\n\n[142 rows x 3 columns]",
      "text/html": "<div>\n<style scoped>\n    .dataframe tbody tr th:only-of-type {\n        vertical-align: middle;\n    }\n\n    .dataframe tbody tr th {\n        vertical-align: top;\n    }\n\n    .dataframe thead th {\n        text-align: right;\n    }\n</style>\n<table border=\"1\" class=\"dataframe\">\n  <thead>\n    <tr style=\"text-align: right;\">\n      <th></th>\n      <th>SECTIONS</th>\n      <th>TOKENS</th>\n      <th>TAGS_LISTS</th>\n    </tr>\n  </thead>\n  <tbody>\n    <tr>\n      <th>0</th>\n      <td>_ء_#=425185017973= $$</td>\n      <td>None</td>\n      <td>None</td>\n    </tr>\n    <tr>\n      <th>1</th>\n      <td>_ء_=853423456377= ::UNDEFINED:: ~</td>\n      <td>وأم</td>\n      <td>None</td>\n    </tr>\n    <tr>\n      <th>2</th>\n      <td>None</td>\n      <td>أبيها</td>\n      <td>None</td>\n    </tr>\n    <tr>\n      <th>3</th>\n      <td>None</td>\n      <td>بنت</td>\n      <td>None</td>\n    </tr>\n    <tr>\n      <th>4</th>\n      <td>None</td>\n      <td>حمزة</td>\n      <td>None</td>\n    </tr>\n    <tr>\n      <th>...</th>\n      <td>...</td>\n      <td>...</td>\n      <td>...</td>\n    </tr>\n    <tr>\n      <th>137</th>\n      <td>None</td>\n      <td>هلال</td>\n      <td>None</td>\n    </tr>\n    <tr>\n      <th>138</th>\n      <td>None</td>\n      <td>بن</td>\n      <td>None</td>\n    </tr>\n    <tr>\n      <th>139</th>\n      <td>None</td>\n      <td>عمر</td>\n      <td>None</td>\n    </tr>\n    <tr>\n      <th>140</th>\n      <td>None</td>\n      <td>بن</td>\n      <td>None</td>\n    </tr>\n    <tr>\n      <th>141</th>\n      <td>None</td>\n      <td>مخزوم</td>\n      <td>None</td>\n    </tr>\n  </tbody>\n</table>\n<p>142 rows × 3 columns</p>\n</div>"
     },
     "execution_count": 12,
     "metadata": {},
     "output_type": "execute_result"
    }
   ],
   "source": [
    "df"
   ],
   "metadata": {
    "collapsed": false,
    "pycharm": {
     "name": "#%%\n"
    }
   }
  },
  {
   "cell_type": "code",
   "execution_count": 13,
   "outputs": [
    {
     "data": {
      "text/plain": "141"
     },
     "execution_count": 13,
     "metadata": {},
     "output_type": "execute_result"
    }
   ],
   "source": [
    "df['TOKENS'].count()"
   ],
   "metadata": {
    "collapsed": false,
    "pycharm": {
     "name": "#%%\n"
    }
   }
  },
  {
   "cell_type": "code",
   "execution_count": 14,
   "outputs": [
    {
     "data": {
      "text/plain": "[None,\n 'وأم',\n 'أبيها',\n 'بنت',\n 'حمزة',\n 'بن',\n 'عبد',\n 'المطلب',\n 'أمها',\n 'سلمى',\n 'بنت',\n 'عميس',\n 'بن',\n 'مالك',\n 'بن',\n 'النعمان',\n 'بن',\n 'كعب',\n 'بن',\n 'مالك',\n 'بن',\n 'قحافة',\n 'بن',\n 'عامر',\n 'بن',\n 'زيد',\n 'بن',\n 'نسر',\n 'بن',\n 'وهب',\n 'بن',\n 'خثعم',\n 'بن',\n 'أنمار',\n 'بن',\n 'أراش',\n 'بن',\n 'عمرو',\n 'بن',\n 'الغوث',\n 'حدثنا',\n 'خليفة',\n 'قال',\n 'حدثنا',\n 'بكر',\n 'عن',\n 'بن',\n 'إسحاق',\n 'قال',\n 'سلمى',\n 'بنت',\n 'عميس',\n 'بن',\n 'معد',\n 'بن',\n 'الحارث',\n 'بن',\n 'تيم',\n 'بن',\n 'كعب',\n 'بن',\n 'مالك',\n 'بن',\n 'قحافة',\n 'بن',\n 'عامر',\n 'بن',\n 'ربيعة',\n 'بن',\n 'عامر',\n 'بن',\n 'سعد',\n 'بن',\n 'مالك',\n 'بن',\n 'نسر',\n 'بن',\n 'وهب',\n 'بن',\n 'خثعم',\n 'بن',\n 'أنمار',\n 'بن',\n 'أراش',\n 'بن',\n 'عمرو',\n 'بن',\n 'الغوث',\n 'وهي',\n 'التي',\n 'اختصم',\n 'فيها',\n 'علي',\n 'وجعفر',\n 'ابنا',\n 'أبي',\n 'طالب',\n 'وزيد',\n 'بن',\n 'حارثة',\n 'فقضى',\n 'بها',\n 'النبي',\n 'صلى',\n 'الله',\n 'عليه',\n 'لجعفر',\n 'من',\n 'أجل',\n 'خالتها',\n 'أسماء',\n 'بنت',\n 'عميس',\n 'وكانت',\n 'عند',\n 'جعفر',\n 'بن',\n 'أبي',\n 'طالب',\n 'وزعم',\n 'أبو',\n 'عبيدة',\n 'وأبو',\n 'اليقظان',\n 'أن',\n 'رسول',\n 'الله',\n 'صلى',\n 'الله',\n 'عليه',\n 'زوجها',\n 'أبا',\n 'سلمة',\n 'بن',\n 'عبد',\n 'الأسد',\n 'بن',\n 'هلال',\n 'بن',\n 'عمر',\n 'بن',\n 'مخزوم']"
     },
     "execution_count": 14,
     "metadata": {},
     "output_type": "execute_result"
    }
   ],
   "source": [
    "df['TOKENS'].to_list()"
   ],
   "metadata": {
    "collapsed": false,
    "pycharm": {
     "name": "#%%\n"
    }
   }
  },
  {
   "cell_type": "code",
   "execution_count": null,
   "outputs": [],
   "source": [],
   "metadata": {
    "collapsed": false,
    "pycharm": {
     "name": "#%%\n"
    }
   }
  }
 ],
 "metadata": {
  "kernelspec": {
   "display_name": "Python 3",
   "language": "python",
   "name": "python3"
  },
  "language_info": {
   "codemirror_mode": {
    "name": "ipython",
    "version": 2
   },
   "file_extension": ".py",
   "mimetype": "text/x-python",
   "name": "python",
   "nbconvert_exporter": "python",
   "pygments_lexer": "ipython2",
   "version": "2.7.6"
  }
 },
 "nbformat": 4,
 "nbformat_minor": 0
}