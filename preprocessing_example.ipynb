{
 "cells": [
  {
   "cell_type": "code",
   "execution_count": 1,
   "metadata": {
    "tags": []
   },
   "outputs": [
    {
     "name": "stderr",
     "output_type": "stream",
     "text": [
      "/home/lisbert/Documents/EIS1600/eis_env/lib/python3.8/site-packages/tqdm/auto.py:22: TqdmWarning: IProgress not found. Please update jupyter and ipywidgets. See https://ipywidgets.readthedocs.io/en/stable/user_install.html\n",
      "  from .autonotebook import tqdm as notebook_tqdm\n"
     ]
    }
   ],
   "source": [
    "from eis1600.helper.repo import read_files_from_readme, get_files_from_eis1600_dir\n",
    "from eis1600.preprocessing.methods import get_yml_and_MIU_df, write_updated_miu_to_file\n",
    "from eis1600.miu.methods import annotate_miu_file, get_mius"
   ]
  },
  {
   "cell_type": "code",
   "execution_count": 11,
   "metadata": {
    "pycharm": {
     "name": "#%%\n"
    }
   },
   "outputs": [
    {
     "name": "stdout",
     "output_type": "stream",
     "text": [
      "['0571IbnCasakir.TarikhDimashq.JK000916-ara1', '0571IbnCasakir.TarikhDimashq.JK000916-ara1.EIS1600', '0748Dhahabi.TarikhIslam.MGR20180917-ara1', '0764Safadi.WafiBiWafayat.JK003609-ara1', '0902Sakhawi.DawLamic.JK003608-ara1']\n",
      "['../OpenITI_EIS1600_MIUs/data/0571IbnCasakir/0571IbnCasakir.TarikhDimashq/0571IbnCasakir.TarikhDimashq.JK000916-ara1.IDs', '../OpenITI_EIS1600_MIUs/data/0571IbnCasakir/0571IbnCasakir.TarikhDimashq/0571IbnCasakir.TarikhDimashq.JK000916-ara1.IDs', '../OpenITI_EIS1600_MIUs/data/0748Dhahabi/0748Dhahabi.TarikhIslam/0748Dhahabi.TarikhIslam.MGR20180917-ara1.IDs', '../OpenITI_EIS1600_MIUs/data/0764Safadi/0764Safadi.WafiBiWafayat/0764Safadi.WafiBiWafayat.JK003609-ara1.IDs', '../OpenITI_EIS1600_MIUs/data/0902Sakhawi/0902Sakhawi.DawLamic/0902Sakhawi.DawLamic.JK003608-ara1.IDs']\n"
     ]
    }
   ],
   "source": [
    "input_dir = '../OpenITI_EIS1600_MIUs/'\n",
    "files_list = read_files_from_readme(input_dir, '# Texts disassembled into MIU files\\n')\n",
    "infiles = get_files_from_eis1600_dir(input_dir, files_list, 'IDs')\n",
    "\n",
    "print(files_list)\n",
    "print(infiles)"
   ]
  },
  {
   "cell_type": "code",
   "execution_count": 12,
   "outputs": [],
   "source": [
    "mius = []\n",
    "for file in infiles:\n",
    "    mius.extend(get_mius(file)[1:]) # First element is path to the OPENITI HEADER"
   ],
   "metadata": {
    "collapsed": false,
    "pycharm": {
     "name": "#%%\n"
    }
   }
  },
  {
   "cell_type": "code",
   "execution_count": null,
   "metadata": {
    "pycharm": {
     "name": "#%%\n"
    }
   },
   "outputs": [],
   "source": [
    "for miu in mius[0]:\n",
    "    annotate_miu_file(miu)\n",
    "    yml_header, df = get_yml_and_MIU_df(miu)\n",
    "    write_updated_miu_to_file(miu, yml_header, df)"
   ]
  },
  {
   "cell_type": "code",
   "execution_count": null,
   "metadata": {
    "pycharm": {
     "name": "#%%"
    }
   },
   "outputs": [],
   "source": []
  }
 ],
 "metadata": {
  "kernelspec": {
   "display_name": "Python 3",
   "language": "python",
   "name": "python3"
  },
  "language_info": {
   "codemirror_mode": {
    "name": "ipython",
    "version": 3
   },
   "file_extension": ".py",
   "mimetype": "text/x-python",
   "name": "python",
   "nbconvert_exporter": "python",
   "pygments_lexer": "ipython3",
   "version": "3.8.8"
  }
 },
 "nbformat": 4,
 "nbformat_minor": 4
}