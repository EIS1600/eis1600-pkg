{
 "cells": [
  {
   "cell_type": "code",
   "execution_count": 1,
   "metadata": {},
   "outputs": [
    {
     "name": "stdout",
     "output_type": "stream",
     "text": [
      "\\s(?:(?:من\\s)?(?:شهر\\s)?)?(?P<month>(?:ال)?(?:جم[إأٱآا]د[يى] [إأٱآا]لث[إأٱآا]ني[هة]|جم[إأٱآا]د[يى] [إأٱآا]ل[إأٱآا]ول[يى]|جم[إأٱآا]د[يى] [إأٱآا]ل[إأٱآا]خر[هة]|جم[إأٱآا]د[يى] [إأٱآا]ل[إأٱآا]ول|جم[إأٱآا]د[يى] [إأٱآا]ل[إأٱآا]خر|شهر [إأٱآا]لل[هة] [إأٱآا]لمحرم|ربيع [إأٱآا]لث[إأٱآا]ن[يى]|شعب[إأٱآا]ن [إأٱآا]لمكرم|رمض[إأٱآا]ن [إأٱآا]لمعظم|رجب [إأٱآا]لمب[إأٱآا]رك|ربيع [إأٱآا]ل[إأٱآا]ول|ربيع [إأٱآا]ل[إأٱآا]خر|ذ[يى] [إأٱآا]لقعد[هة]|ذ[يى] [إأٱآا]لحج[هة]|ذو [إأٱآا]لقعد[هة]|ذو [إأٱآا]لحج[هة]|صفر [إأٱآا]لخير|رجب [إأٱآا]لفرد|ذ[يى] قعد[هة]|ذ[يى] حج[هة]|شعب[إأٱآا]ن|رمض[إأٱآا]ن|شو[إأٱآا]ل|ذو قعد[هة]|ذو حج[هة]|[إأٱآا]خر|محرم|ربيع|صفر|رجب))(?:\\s(?:من|ف[يى])(?:\\sشهور)?)?\n"
     ]
    }
   ],
   "source": [
    "from tqdm import tqdm\n",
    "\n",
    "from eis1600.corpus_analysis.text_methods import get_text_as_list_of_mius\n",
    "from eis1600.dates.month_methods import month_annotate_miu_text\n",
    "from eis1600.processing.preprocessing import get_yml_and_miu_df\n",
    "from eis1600.processing.postprocessing import merge_tagslists, reconstruct_miu_text_with_tags\n",
    "from eis1600.yml.yml_handling import add_annotated_entities_to_yml"
   ]
  },
  {
   "cell_type": "code",
   "execution_count": 2,
   "metadata": {
    "collapsed": false,
    "jupyter": {
     "outputs_hidden": false
    },
    "pycharm": {
     "name": "#%%\n"
    }
   },
   "outputs": [],
   "source": [
    "infile = '../../OpenITI_EIS1600_Texts/dummy.EIS1600'\n",
    "meta_data_header, mius_list = get_text_as_list_of_mius(infile)"
   ]
  },
  {
   "cell_type": "code",
   "execution_count": 3,
   "metadata": {
    "collapsed": false,
    "jupyter": {
     "outputs_hidden": false
    },
    "pycharm": {
     "name": "#%%\n"
    }
   },
   "outputs": [
    {
     "name": "stderr",
     "output_type": "stream",
     "text": [
      "100%|██████████████████████████████████████████████████████████████████████████████████████████████████████████████████████████| 2/2 [00:00<00:00, 24.35it/s]"
     ]
    },
    {
     "name": "stdout",
     "output_type": "stream",
     "text": [
      "text فارغ\n",
      "text فارغ\n",
      "[nan, nan, None, nan]\n",
      "_ء_#=500883784288= | باب ذكر القول المشهور في اشتقاق تسمية الأيام والشهور\n",
      "\n",
      "_ء_=490817454697= ::UNDEFINED:: ~\n",
      "_ء_ فارغ\n",
      "\n",
      "\n",
      "\n",
      "\n",
      "text وفيها مات محمد بن علي الوراق في المحرم .\n",
      "MATCH  المحرم\n",
      "المحرم\n",
      "text وفيها مات محمد بن علي الوراق في المحرم .\n",
      "MATCH  المحرم\n",
      "المحرم\n",
      "[nan, nan, None, None, None, None, None, None, None, 'ÜL1X01L', None, nan]\n",
      "Tag is neither year nor age: L1X01L\n",
      "Check: dummy.908117148620\n",
      "_ء_#=500883784288= | باب ذكر القول المشهور في اشتقاق تسمية الأيام والشهور\n",
      "\n",
      "_ء_=490817454697= ::UNDEFINED:: ~\n",
      "_ء_ فارغ\n",
      "\n",
      "\n",
      "\n",
      "_ء_#=908117148620= $ 277-\n",
      "\n",
      "_ء_=434865439564= ::UNDEFINED:: ~\n",
      "_ء_ وفيها مات محمد بن علي الوراق في ÜL1X01L المحرم .\n",
      "\n",
      "\n",
      "\n",
      "\n"
     ]
    },
    {
     "name": "stderr",
     "output_type": "stream",
     "text": [
      "\n"
     ]
    }
   ],
   "source": [
    "res = []\n",
    "error = ''\n",
    "re_text = ''\n",
    "for idx, tup in tqdm(list(enumerate(mius_list))):\n",
    "    uid, miu_as_text, analyse_flag = tup\n",
    "    yml_handler, df = get_yml_and_miu_df(miu_as_text)\n",
    "    df['MONTH_TAGS'] = month_annotate_miu_text(df[['TOKENS']], uid)\n",
    "    print(df['MONTH_TAGS'].to_list())\n",
    "\n",
    "    columns_of_automated_tags = ['MONTH_TAGS']\n",
    "    for col in columns_of_automated_tags:\n",
    "        if col in df.columns:\n",
    "            df['TAGS_LISTS'] = df.apply(merge_tagslists, key=col, axis=1)\n",
    "    df_subset = df[['SECTIONS', 'TOKENS', 'TAGS_LISTS']]\n",
    "    add_annotated_entities_to_yml(df_subset, yml_handler, uid)\n",
    "    re_text += reconstruct_miu_text_with_tags(df_subset) + '\\n\\n'\n",
    "    print(re_text)\n",
    "\n"
   ]
  }
 ],
 "metadata": {
  "kernelspec": {
   "display_name": "Python 3 (ipykernel)",
   "language": "python",
   "name": "python3"
  },
  "language_info": {
   "codemirror_mode": {
    "name": "ipython",
    "version": 3
   },
   "file_extension": ".py",
   "mimetype": "text/x-python",
   "name": "python",
   "nbconvert_exporter": "python",
   "pygments_lexer": "ipython3",
   "version": "3.10.12"
  }
 },
 "nbformat": 4,
 "nbformat_minor": 4
}
