{
 "cells": [
  {
   "cell_type": "code",
   "execution_count": 1,
   "metadata": {},
   "outputs": [],
   "source": [
    "from tqdm import tqdm\n",
    "\n",
    "from eis1600.corpus_analysis.text_methods import get_text_as_list_of_mius\n",
    "from eis1600.dates.month_methods import month_annotate_miu_text\n",
    "from eis1600.processing.preprocessing import get_yml_and_miu_df\n",
    "from eis1600.processing.postprocessing import merge_tagslists, reconstruct_miu_text_with_tags\n",
    "from eis1600.yml.yml_handling import add_annotated_entities_to_yml"
   ]
  },
  {
   "cell_type": "code",
   "execution_count": 2,
   "metadata": {
    "collapsed": false,
    "jupyter": {
     "outputs_hidden": false
    },
    "pycharm": {
     "name": "#%%\n"
    }
   },
   "outputs": [],
   "source": [
    "infile = '../../OpenITI_EIS1600_Texts/data/0902Sakhawi/0902Sakhawi.DawLamic/0902Sakhawi.DawLamic.ITO20230111-ara1.EIS1600'\n",
    "mius_list = get_text_as_list_of_mius(infile)"
   ]
  },
  {
   "cell_type": "code",
   "execution_count": 3,
   "metadata": {
    "collapsed": false,
    "jupyter": {
     "outputs_hidden": false
    },
    "pycharm": {
     "name": "#%%\n"
    }
   },
   "outputs": [
    {
     "name": "stderr",
     "output_type": "stream",
     "text": [
      "100%|██████████████████████████████████████████████████████████████████████████████████████████████████████████████████| 15686/15686 [15:09<00:00, 17.25it/s]\n"
     ]
    }
   ],
   "source": [
    "res = []\n",
    "error = ''\n",
    "re_text = ''\n",
    "for idx, tup in tqdm(list(enumerate(mius_list))):\n",
    "    try:\n",
    "        uid, miu_as_text, analyse_flag = tup\n",
    "        yml_handler, df = get_yml_and_miu_df(miu_as_text)\n",
    "        df['MONTH_TAGS'] = month_annotate_miu_text(df[['TOKENS']], uid)\n",
    "\n",
    "        columns_of_automated_tags = ['MONTH_TAGS']\n",
    "        for col in columns_of_automated_tags:\n",
    "            if col in df.columns:\n",
    "                df['TAGS_LISTS'] = df.apply(lambda x: merge_tagslists(x['TAGS_LISTS'], x[col]), axis=1)\n",
    "        df_subset = df[['SECTIONS', 'TOKENS', 'TAGS_LISTS']]\n",
    "        add_annotated_entities_to_yml(df_subset, yml_handler, uid)\n",
    "        re_text += reconstruct_miu_text_with_tags(df_subset) + '\\n\\n'\n",
    "    except Exception as e:\n",
    "        uid, miu_as_text, analyse_flag = tup\n",
    "        error += f'{uid}\\n{e}\\n\\n\\n'\n"
   ]
  },
  {
   "cell_type": "code",
   "execution_count": 4,
   "metadata": {},
   "outputs": [],
   "source": [
    "with open('../../0902Sakhawi.DawLamic.ITO20230111-ara1.EIS1600', 'w') as fh:\n",
    "    fh.write(re_text)"
   ]
  },
  {
   "cell_type": "code",
   "execution_count": 2,
   "metadata": {},
   "outputs": [],
   "source": [
    "from pandas import read_csv"
   ]
  },
  {
   "cell_type": "code",
   "execution_count": 5,
   "metadata": {},
   "outputs": [
    {
     "data": {
      "text/plain": [
       "2          الدوبيت\n",
       "6          السلسلة\n",
       "16        المواليا\n",
       "19    شعر التفعيلة\n",
       "20          شعر حر\n",
       "21            عامي\n",
       "Name: METER, dtype: object"
      ]
     },
     "execution_count": 5,
     "metadata": {},
     "output_type": "execute_result"
    }
   ],
   "source": [
    "df = read_csv('../eis1600/models/data/poetic_meters.csv')\n",
    "df.loc[~df['POETRY'], 'METER']"
   ]
  },
  {
   "cell_type": "code",
   "execution_count": null,
   "metadata": {},
   "outputs": [],
   "source": []
  }
 ],
 "metadata": {
  "kernelspec": {
   "display_name": "Python 3 (ipykernel)",
   "language": "python",
   "name": "python3"
  },
  "language_info": {
   "codemirror_mode": {
    "name": "ipython",
    "version": 3
   },
   "file_extension": ".py",
   "mimetype": "text/x-python",
   "name": "python",
   "nbconvert_exporter": "python",
   "pygments_lexer": "ipython3",
   "version": "3.10.12"
  }
 },
 "nbformat": 4,
 "nbformat_minor": 4
}
