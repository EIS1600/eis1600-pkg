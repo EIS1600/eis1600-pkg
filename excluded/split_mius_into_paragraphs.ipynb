{
 "cells": [
  {
   "cell_type": "code",
   "execution_count": 4,
   "metadata": {},
   "outputs": [],
   "source": [
    "from pandas import isna\n",
    "\n",
    "from eis1600.markdown.markdown_patterns import PARAGRAPH_UID_TAG_PATTERN\n",
    "from eis1600.processing.preprocessing import get_yml_and_miu_df\n",
    "from eis1600.corpus_analysis.text_methods import get_text_as_list_of_mius"
   ]
  },
  {
   "cell_type": "code",
   "execution_count": 13,
   "metadata": {
    "collapsed": false,
    "jupyter": {
     "outputs_hidden": false
    },
    "pycharm": {
     "name": "#%%\n"
    }
   },
   "outputs": [],
   "source": [
    "infile = '../../OpenITI_EIS1600_Texts/data/0346Mascudi/0346Mascudi.TanbihWaIshraf/0346Mascudi.TanbihWaIshraf.Shamela0023718-ara1.EIS1600'\n",
    "\n",
    "mius_list = get_text_as_list_of_mius(infile)\n",
    "\n",
    "uid, miu_as_text, analyse_flag = mius_list[0]\n",
    "yml_handler, df = get_yml_and_miu_df(miu_as_text)"
   ]
  },
  {
   "cell_type": "code",
   "execution_count": 14,
   "metadata": {
    "collapsed": false,
    "jupyter": {
     "outputs_hidden": false
    },
    "pycharm": {
     "name": "#%%\n"
    }
   },
   "outputs": [],
   "source": [
    "paragraphs = []\n",
    "\n",
    "tokens = []\n",
    "curr_section_type = None\n",
    "for section, token, tags in df.itertuples(index=False):\n",
    "    if isna(section):\n",
    "        if not isna(token):\n",
    "            tokens.append(token)\n",
    "    elif PARAGRAPH_UID_TAG_PATTERN.match(section):\n",
    "        paragraphs.append((curr_section_type, ' '.join(tokens)))\n",
    "        curr_section_type = PARAGRAPH_UID_TAG_PATTERN.match(section).group('cat')\n",
    "        tokens = []\n",
    "\n",
    "paragraphs.append((curr_section_type, ' '.join(tokens)))\n",
    "paragraphs = paragraphs[1:]    # First element is (None, '') due to the MIU header"
   ]
  },
  {
   "cell_type": "code",
   "execution_count": 16,
   "metadata": {
    "collapsed": false,
    "jupyter": {
     "outputs_hidden": false
    },
    "pycharm": {
     "name": "#%%\n"
    }
   },
   "outputs": [
    {
     "name": "stdout",
     "output_type": "stream",
     "text": [
      "5\n",
      "['UNDEFINED', 'POETRY', 'UNDEFINED', 'POETRY', 'UNDEFINED']\n"
     ]
    }
   ],
   "source": [
    "mergable_paragraphs = []\n",
    "unsplitted = []\n",
    "for cat, text in paragraphs:\n",
    "    if cat == 'UNDEFINED':\n",
    "        # Condition probably better to exclude only poetry but this way BOOKS, TEACHER, STUDENTS are kept (probably unneccessary)\n",
    "        # Test for poetry\n",
    "        mergable_paragraphs.append(text)\n",
    "    else:\n",
    "        unsplitted.append(('UNDEFINED', ' '.join(mergable_paragraphs)))\n",
    "        mergable_paragraphs = []\n",
    "        unsplitted.append((cat, text))\n",
    "if mergable_paragraphs:\n",
    "    unsplitted.append(('UNDEFINED', ' '.join(mergable_paragraphs)))\n",
    "print(len(unsplitted))\n",
    "print([cat for cat, text in unsplitted])"
   ]
  },
  {
   "cell_type": "code",
   "execution_count": null,
   "metadata": {},
   "outputs": [],
   "source": []
  }
 ],
 "metadata": {
  "kernelspec": {
   "display_name": "Python 3 (ipykernel)",
   "language": "python",
   "name": "python3"
  },
  "language_info": {
   "codemirror_mode": {
    "name": "ipython",
    "version": 3
   },
   "file_extension": ".py",
   "mimetype": "text/x-python",
   "name": "python",
   "nbconvert_exporter": "python",
   "pygments_lexer": "ipython3",
   "version": "3.10.12"
  }
 },
 "nbformat": 4,
 "nbformat_minor": 4
}