{
 "cells": [
  {
   "cell_type": "code",
   "execution_count": 1,
   "metadata": {
    "collapsed": true
   },
   "outputs": [],
   "source": [
    "from typing import List\n",
    "\n",
    "import pandas as pd\n",
    "\n",
    "from openiti.helper.ara import denoise"
   ]
  },
  {
   "cell_type": "code",
   "execution_count": 2,
   "outputs": [],
   "source": [
    "def cmt_rplc(cmt: str) -> str:\n",
    "    cmt_updtd = cmt.replace(' ؟', '')\n",
    "    cmt_updtd = cmt_updtd.replace('؟', '')\n",
    "    cmt_updtd = cmt_updtd.replace('%', '')\n",
    "\n",
    "    return cmt_updtd.strip()"
   ],
   "metadata": {
    "collapsed": false,
    "pycharm": {
     "name": "#%%\n"
    }
   }
  },
  {
   "cell_type": "code",
   "execution_count": 3,
   "outputs": [],
   "source": [
    "df = pd.read_csv('../../OnomasticonArabicum2020/oa2020/oa2020.csv')\n",
    "df['category'].astype('category')\n",
    "df.loc[df['content'].notna(), 'content'] = df.loc[df['content'].notna(), 'content'].apply(denoise).apply(cmt_rplc)\n",
    "df.loc[df['comment'].notna(), 'comment'] = df.loc[df['comment'].notna(), 'comment'].apply(denoise).apply(cmt_rplc)\n",
    "df['comment'] = df['comment'].mask(df['comment'] == '')\n",
    "df['content'] = df['content'].mask(df['content'] == '')"
   ],
   "metadata": {
    "collapsed": false,
    "pycharm": {
     "name": "#%%\n"
    }
   }
  },
  {
   "cell_type": "code",
   "execution_count": 4,
   "outputs": [
    {
     "name": "stdout",
     "output_type": "stream",
     "text": [
      "['ISM' 'IAB' 'GAD' 'NSB' 'SIF' 'SWM' 'UMT' 'MAT' 'REF' 'DIN' 'SUH' 'HAL'\n",
      " 'KUN' 'HDR' 'LAQ' 'ABG' 'GAG' 'GGG' 'LQB' 'HDF' 'HRI' 'HWL' 'HMT' 'SRK'\n",
      " 'WLD' 'AHL' 'SMT' 'AKH' 'TRH' 'GNS' 'GAD0' 'HRB' 'ABG0' 'HAQ' 'GAG0'\n",
      " 'IAB0' 'AHL0' 'HDR0' 'WLD0' 'NSB0' 'SNF' 'ISM0' 'MIN' 'TRH0' 'ILA' 'HAQ0'\n",
      " 'SWM0' 'HAL0' 'LQB0' 'EGL' 'KUN0' 'MAT0' 'SUH0' 'HDF0' 'AQB' 'SNF0'\n",
      " 'SMT0' 'HMT0' 'HRI0' 'HWL0' 'DIN0' 'UMT0']\n"
     ]
    }
   ],
   "source": [
    "print(df['category'].unique())"
   ],
   "metadata": {
    "collapsed": false,
    "pycharm": {
     "name": "#%%\n"
    }
   }
  },
  {
   "cell_type": "code",
   "execution_count": 5,
   "outputs": [
    {
     "data": {
      "text/plain": "محمد        8845\nأحمد        4480\nعلي         3759\nعبد الله    2758\nأأأ         1840\n            ... \nزوطي           1\nماه            1\nمرقي           1\nقياما          1\nسرية           1\nName: ISM, Length: 4999, dtype: int64"
     },
     "execution_count": 5,
     "metadata": {},
     "output_type": "execute_result"
    }
   ],
   "source": [
    "ism_cats = ['ISM', 'IAB', 'GAD', 'ABG', 'GAG', 'IAB0', 'GAD0', 'ABG0', 'GAG0']\n",
    "isms = df.loc[df['category'].isin(ism_cats)]\n",
    "ism_vc = isms['content'].value_counts().rename('ISM')\n",
    "ism_vc.to_csv('../../OnomasticonArabicum2020/oa2020/ism.csv')\n",
    "ism_vc.to_csv('../../OnomasticonArabicum2020/oa2020/ism.tsv', sep='\\t')\n",
    "ism_vc"
   ],
   "metadata": {
    "collapsed": false,
    "pycharm": {
     "name": "#%%\n"
    }
   }
  },
  {
   "cell_type": "code",
   "execution_count": 6,
   "outputs": [],
   "source": [
    "ism_com = isms.loc[isms['comment'].notna()]\n",
    "ism_com[['content', 'comment']].value_counts().to_csv('../../OnomasticonArabicum2020/oa2020/ism_com.csv')\n",
    "ism_com[['content', 'comment']].value_counts().to_csv('../../OnomasticonArabicum2020/oa2020/ism_com.tsv', sep='\\t')"
   ],
   "metadata": {
    "collapsed": false,
    "pycharm": {
     "name": "#%%\n"
    }
   }
  },
  {
   "cell_type": "code",
   "execution_count": 7,
   "outputs": [
    {
     "data": {
      "text/plain": "أبو عبد الله    1046\nأبو الحسن        973\nأبو محمد         888\nأبو بكر          696\nأبو القاسم       609\n                ... \nأبو جابر           1\nأبو حافظ           1\nأبو الجماهر        1\nأبو الضوء          1\nأبو مخرم           1\nName: KUN, Length: 722, dtype: int64"
     },
     "execution_count": 7,
     "metadata": {},
     "output_type": "execute_result"
    }
   ],
   "source": [
    "kun_cats = ['KUN', 'KIN0']\n",
    "kuns = df.loc[df['category'].isin(kun_cats)]\n",
    "kun_vc = kuns['content'].value_counts().rename('KUN')\n",
    "kun_vc.to_csv('../../OnomasticonArabicum2020/oa2020/kun.csv')\n",
    "kun_vc.to_csv('../../OnomasticonArabicum2020/oa2020/kun.tsv', sep='\\t')\n",
    "kun_vc"
   ],
   "metadata": {
    "collapsed": false,
    "pycharm": {
     "name": "#%%\n"
    }
   }
  },
  {
   "cell_type": "code",
   "execution_count": 8,
   "outputs": [
    {
     "data": {
      "text/plain": "البغدادي     868\nالدمشقي      759\nالمصري       602\nالبصري       395\nالكوفي       392\n            ... \nاليونارتي      1\nالحطيني        1\nكتكاني         1\nالديلي         1\nالنيسابور      1\nName: NSB, Length: 3344, dtype: int64"
     },
     "execution_count": 8,
     "metadata": {},
     "output_type": "execute_result"
    }
   ],
   "source": [
    "nsb_cats = ['NSB']\n",
    "nsbs = df.loc[df['category'].isin(nsb_cats)]\n",
    "nsb_vc = nsbs['content'].value_counts().rename('NSB')\n",
    "nsb_vc.to_csv('../../OnomasticonArabicum2020/oa2020/nsb.csv')\n",
    "nsb_vc.to_csv('../../OnomasticonArabicum2020/oa2020/nsb.tsv', sep='\\t')\n",
    "nsb_vc"
   ],
   "metadata": {
    "collapsed": false,
    "pycharm": {
     "name": "#%%\n"
    }
   }
  },
  {
   "cell_type": "code",
   "execution_count": 9,
   "outputs": [
    {
     "data": {
      "text/plain": "الملس               568\nشمس الدين           533\nسيد                 395\nشهاب الدين          348\nجمال الدين          302\n                   ... \nالقطب النيسابوري      1\nإمام الربوة           1\nالكذاب                1\nقراد                  1\nمنلا                  1\nName: LAQ, Length: 1899, dtype: int64"
     },
     "execution_count": 9,
     "metadata": {},
     "output_type": "execute_result"
    }
   ],
   "source": [
    "laq_cats = ['LAQ', 'LAQ0', 'LQB', 'LQB0']\n",
    "laqs = df.loc[df['category'].isin(laq_cats)]\n",
    "laq_vc = laqs['content'].value_counts().rename('LAQ')\n",
    "laq_vc.to_csv('../../OnomasticonArabicum2020/oa2020/laq.csv')\n",
    "laq_vc.to_csv('../../OnomasticonArabicum2020/oa2020/laq.tsv', sep='\\t')\n",
    "laq_vc"
   ],
   "metadata": {
    "collapsed": false,
    "pycharm": {
     "name": "#%%\n"
    }
   }
  },
  {
   "cell_type": "code",
   "execution_count": 10,
   "outputs": [
    {
     "data": {
      "text/plain": "شاعر       3146\nمحدث       2510\nفقيه       1875\nمصنف       1732\nقاضي       1280\n           ... \nالبأآر        1\nزيات          1\nالجلآري       1\nحبر           1\nطريب          1\nName: SWM, Length: 1212, dtype: int64"
     },
     "execution_count": 10,
     "metadata": {},
     "output_type": "execute_result"
    }
   ],
   "source": [
    "swm_cats = ['SWM', 'SWM0']\n",
    "swms = df.loc[df['category'].isin(swm_cats)]\n",
    "swm_vc = swms['content'].value_counts().rename('SWM')\n",
    "swm_vc.to_csv('../../OnomasticonArabicum2020/oa2020/swm.csv')\n",
    "swm_vc.to_csv('../../OnomasticonArabicum2020/oa2020/swm.tsv', sep='\\t')\n",
    "swm_vc"
   ],
   "metadata": {
    "collapsed": false,
    "pycharm": {
     "name": "#%%\n"
    }
   }
  },
  {
   "cell_type": "code",
   "execution_count": 11,
   "outputs": [
    {
     "data": {
      "text/plain": "content    comment               \nمحدث       سمع                       191\nمدرس       درس                       118\nمفتي       أفتى                      103\nنائب       ناب في الحكم              102\nمحدث       سمع؛حدث                    92\n                                    ... \nشيخ        الإسلام بدمشق               1\n           الإسلام بالديارالمصرية      1\n           الإسلام ; المرجع            1\n           الأطباء؛بالعراق             1\nولي العهد  ولي عهد أبيه ووزيره         1\nLength: 8840, dtype: int64"
     },
     "execution_count": 11,
     "metadata": {},
     "output_type": "execute_result"
    }
   ],
   "source": [
    "swm_com = swms[['content', 'comment']]\n",
    "swm_com_vc = swm_com.value_counts()\n",
    "swm_com_vc.to_csv('../../OnomasticonArabicum2020/oa2020/swm_com.csv')\n",
    "swm_com_vc.to_csv('../../OnomasticonArabicum2020/oa2020/swm_com.tsv', sep='\\t')\n",
    "swm_com_vc"
   ],
   "metadata": {
    "collapsed": false,
    "pycharm": {
     "name": "#%%\n"
    }
   }
  },
  {
   "cell_type": "code",
   "execution_count": 12,
   "outputs": [],
   "source": [
    "suh_cats = ['SUH', 'SUH0']\n",
    "suhs = df.loc[df['category'].isin(suh_cats)]\n",
    "suh_vc = suhs['content'].value_counts().rename('SUH')\n",
    "suh_vc.to_csv('../../OnomasticonArabicum2020/oa2020/suh.csv')\n",
    "suh_vc.to_csv('../../OnomasticonArabicum2020/oa2020/suh.tsv', sep='\\t')"
   ],
   "metadata": {
    "collapsed": false,
    "pycharm": {
     "name": "#%%\n"
    }
   }
  },
  {
   "cell_type": "code",
   "execution_count": 13,
   "outputs": [
    {
     "data": {
      "text/plain": "المعروف به                    855\nيعرف به                       272\nالملقب به                      40\nمعروف به                       37\nيلقب به                        30\n                             ... \nمعنا طويل سكوت                  1\nتعرف به عائلته                  1\nإلى جده لأمه صفي الدين          1\nبلغة الأندلس الأبيض الأشقر      1\nالمشهور به في دياره             1\nName: EXP, Length: 260, dtype: int64"
     },
     "execution_count": 13,
     "metadata": {},
     "output_type": "execute_result"
    }
   ],
   "source": [
    "suh_com_vc = suhs['comment'].value_counts().rename('EXP')\n",
    "suh_com_vc.to_csv('../../OnomasticonArabicum2020/oa2020/suh_com.csv')\n",
    "suh_com_vc.to_csv('../../OnomasticonArabicum2020/oa2020/suh_com.tsv', sep='\\t')\n",
    "suh_com_vc"
   ],
   "metadata": {
    "collapsed": false,
    "pycharm": {
     "name": "#%%\n"
    }
   }
  },
  {
   "cell_type": "code",
   "execution_count": 14,
   "outputs": [
    {
     "data": {
      "text/plain": "بغداد                               1132\nدمشق                                 922\nمكة                                  880\nمصر                                  802\nالأندلس                              397\n                                    ... \nسخاو                                   1\nالعنبرانية                             1\nالرباط                                 1\nهرث                                    1\nسافر مع السلطان إلى قتال الأعاجم       1\nName: HAL, Length: 2956, dtype: int64"
     },
     "execution_count": 14,
     "metadata": {},
     "output_type": "execute_result"
    }
   ],
   "source": [
    "hal_cats = ['HAQ', 'HDF', 'HDR', 'HMT', 'HRB', 'HRI', 'HWL', 'HDR0', 'HAQ0', 'HAL0', 'HDF0', 'HMT0', 'HWL0']\n",
    "hals = df.loc[df['category'].isin(hal_cats)]\n",
    "hal_vc = hals['content'].value_counts().rename('HAL')\n",
    "hal_vc.to_csv('../../OnomasticonArabicum2020/oa2020/hal.csv')\n",
    "hal_vc.to_csv('../../OnomasticonArabicum2020/oa2020/hal.tsv', sep='\\t')\n",
    "hal_vc"
   ],
   "metadata": {
    "collapsed": false,
    "pycharm": {
     "name": "#%%\n"
    }
   }
  },
  {
   "cell_type": "code",
   "execution_count": 15,
   "outputs": [],
   "source": [
    "def get_topo_as_list(topos_str: str) -> List[str]:\n",
    "    return topos_str.split('، ')"
   ],
   "metadata": {
    "collapsed": false,
    "pycharm": {
     "name": "#%%\n"
    }
   }
  },
  {
   "cell_type": "code",
   "execution_count": 16,
   "outputs": [],
   "source": [
    "thurayya = pd.read_csv('../../OnomasticonArabicum2020/oa2020/toponyms_extended.csv', converters={'toponyms': get_topo_as_list})\n",
    "known_toponyms = thurayya['toponyms'].explode(ignore_index=True).to_list()"
   ],
   "metadata": {
    "collapsed": false,
    "pycharm": {
     "name": "#%%\n"
    }
   }
  },
  {
   "cell_type": "code",
   "execution_count": 17,
   "outputs": [],
   "source": [
    "toponyms = hals['content']\n",
    "unknown_toponyms = toponyms.loc[~toponyms.isin(known_toponyms)]\n",
    "unknown_toponyms_vc = unknown_toponyms.value_counts()\n",
    "unknown_toponyms_vc.to_csv('../../OnomasticonArabicum2020/oa2020/unknown_toponyms.csv')\n",
    "unknown_toponyms_vc.to_csv('../../OnomasticonArabicum2020/oa2020/unknown_toponyms.tsv', sep='\\t')"
   ],
   "metadata": {
    "collapsed": false,
    "pycharm": {
     "name": "#%%\n"
    }
   }
  },
  {
   "cell_type": "code",
   "execution_count": 18,
   "outputs": [],
   "source": [
    "def get_as_data(row, category):\n",
    "    return category, row.name, row[category]"
   ],
   "metadata": {
    "collapsed": false,
    "pycharm": {
     "name": "#%%\n"
    }
   }
  },
  {
   "cell_type": "code",
   "execution_count": 19,
   "outputs": [],
   "source": [
    "elements = [ism_vc, kun_vc, laq_vc, nsb_vc, suh_vc, swm_vc, suh_com_vc]"
   ],
   "metadata": {
    "collapsed": false,
    "pycharm": {
     "name": "#%%\n"
    }
   }
  },
  {
   "cell_type": "code",
   "execution_count": 20,
   "outputs": [],
   "source": [
    "# CATEGORY, CONTENT/COMMENT, COUNT\n",
    "data = []\n",
    "for s in elements:\n",
    "    data.extend(pd.DataFrame(s).apply(get_as_data, category=s.name, axis=1).to_list())"
   ],
   "metadata": {
    "collapsed": false,
    "pycharm": {
     "name": "#%%\n"
    }
   }
  },
  {
   "cell_type": "code",
   "execution_count": 21,
   "outputs": [],
   "source": [
    "gazetteer = pd.DataFrame(data, columns=['CATEGORY', 'TEXT', 'COUNT'])"
   ],
   "metadata": {
    "collapsed": false,
    "pycharm": {
     "name": "#%%\n"
    }
   }
  },
  {
   "cell_type": "code",
   "execution_count": 22,
   "outputs": [],
   "source": [
    "gazetteer.to_csv('../../OnomasticonArabicum2020/oa2020/ono_gazetteer.csv', index=False)\n",
    "gazetteer.to_csv('../../OnomasticonArabicum2020/oa2020/ono_gazetteer.tsv', sep='\\t', index=False)"
   ],
   "metadata": {
    "collapsed": false,
    "pycharm": {
     "name": "#%%\n"
    }
   }
  },
  {
   "cell_type": "code",
   "execution_count": 23,
   "outputs": [
    {
     "data": {
      "text/plain": "      CATEGORY                        TEXT  COUNT\n0          ISM                        محمد   8845\n1          ISM                        أحمد   4480\n2          ISM                         علي   3759\n3          ISM                    عبد الله   2758\n4          ISM                         أأأ   1840\n...        ...                         ...    ...\n16152      EXP              معنا طويل سكوت      1\n16153      EXP              تعرف به عائلته      1\n16154      EXP      إلى جده لأمه صفي الدين      1\n16155      EXP  بلغة الأندلس الأبيض الأشقر      1\n16156      EXP         المشهور به في دياره      1\n\n[16157 rows x 3 columns]",
      "text/html": "<div>\n<style scoped>\n    .dataframe tbody tr th:only-of-type {\n        vertical-align: middle;\n    }\n\n    .dataframe tbody tr th {\n        vertical-align: top;\n    }\n\n    .dataframe thead th {\n        text-align: right;\n    }\n</style>\n<table border=\"1\" class=\"dataframe\">\n  <thead>\n    <tr style=\"text-align: right;\">\n      <th></th>\n      <th>CATEGORY</th>\n      <th>TEXT</th>\n      <th>COUNT</th>\n    </tr>\n  </thead>\n  <tbody>\n    <tr>\n      <th>0</th>\n      <td>ISM</td>\n      <td>محمد</td>\n      <td>8845</td>\n    </tr>\n    <tr>\n      <th>1</th>\n      <td>ISM</td>\n      <td>أحمد</td>\n      <td>4480</td>\n    </tr>\n    <tr>\n      <th>2</th>\n      <td>ISM</td>\n      <td>علي</td>\n      <td>3759</td>\n    </tr>\n    <tr>\n      <th>3</th>\n      <td>ISM</td>\n      <td>عبد الله</td>\n      <td>2758</td>\n    </tr>\n    <tr>\n      <th>4</th>\n      <td>ISM</td>\n      <td>أأأ</td>\n      <td>1840</td>\n    </tr>\n    <tr>\n      <th>...</th>\n      <td>...</td>\n      <td>...</td>\n      <td>...</td>\n    </tr>\n    <tr>\n      <th>16152</th>\n      <td>EXP</td>\n      <td>معنا طويل سكوت</td>\n      <td>1</td>\n    </tr>\n    <tr>\n      <th>16153</th>\n      <td>EXP</td>\n      <td>تعرف به عائلته</td>\n      <td>1</td>\n    </tr>\n    <tr>\n      <th>16154</th>\n      <td>EXP</td>\n      <td>إلى جده لأمه صفي الدين</td>\n      <td>1</td>\n    </tr>\n    <tr>\n      <th>16155</th>\n      <td>EXP</td>\n      <td>بلغة الأندلس الأبيض الأشقر</td>\n      <td>1</td>\n    </tr>\n    <tr>\n      <th>16156</th>\n      <td>EXP</td>\n      <td>المشهور به في دياره</td>\n      <td>1</td>\n    </tr>\n  </tbody>\n</table>\n<p>16157 rows × 3 columns</p>\n</div>"
     },
     "execution_count": 23,
     "metadata": {},
     "output_type": "execute_result"
    }
   ],
   "source": [
    "gazetteer"
   ],
   "metadata": {
    "collapsed": false,
    "pycharm": {
     "name": "#%%\n"
    }
   }
  }
 ],
 "metadata": {
  "kernelspec": {
   "display_name": "Python 3",
   "language": "python",
   "name": "python3"
  },
  "language_info": {
   "codemirror_mode": {
    "name": "ipython",
    "version": 2
   },
   "file_extension": ".py",
   "mimetype": "text/x-python",
   "name": "python",
   "nbconvert_exporter": "python",
   "pygments_lexer": "ipython2",
   "version": "2.7.6"
  }
 },
 "nbformat": 4,
 "nbformat_minor": 0
}