{
 "cells": [
  {
   "cell_type": "code",
   "execution_count": 53,
   "metadata": {
    "collapsed": true
   },
   "outputs": [],
   "source": [
    "from re import compile\n",
    "from glob import iglob\n",
    "from numpy import nan\n",
    "from pandas import concat, DataFrame, read_csv\n",
    "from openiti.helper.ara import denormalize\n",
    "\n",
    "from eis1600.gazetteers.Spellings import Spellings\n",
    "from eis1600.gazetteers.Toponyms import Toponyms\n",
    "from eis1600.helper.markdown_patterns import WORD, NOISE_ELEMENTS\n",
    "from eis1600.helper.repo import MIU_REPO, TOPO_REPO\n",
    "from eis1600.processing.preprocessing import get_yml_and_miu_df, get_tokens_and_tags\n",
    "from eis1600.processing.postprocessing import merge_tagslists, reconstruct_miu_text_with_tags"
   ]
  },
  {
   "cell_type": "code",
   "execution_count": 65,
   "outputs": [],
   "source": [
    "sheets = iglob('../../' + TOPO_REPO + 'sheet_*.csv')\n",
    "sheets_df = DataFrame(None, columns=['MIU', 'MODIFIABLE', 'STATUS'])\n",
    "\n",
    "for sheet in sheets:\n",
    "    tmp = read_csv(sheet, usecols=['MIU', 'MODIFIABLE', 'STATUS'])\n",
    "    sheets_df = concat([sheets_df, tmp])\n",
    "\n",
    "sheets_df.dropna(how='all', inplace=True)\n",
    "sheets_df.drop_duplicates(inplace=True)"
   ],
   "metadata": {
    "collapsed": false,
    "pycharm": {
     "name": "#%%\n"
    }
   }
  },
  {
   "cell_type": "code",
   "execution_count": 66,
   "outputs": [],
   "source": [
    "sheets_df['STATUS'].loc[sheets_df['STATUS'].notna() & sheets_df['STATUS'].str.fullmatch('TOPOPONYM|CORRECT')] = 'TOPONYM'\n",
    "sheets_df['STATUS'].loc[sheets_df['STATUS'].notna() & sheets_df['STATUS'].str.fullmatch('ODD|INCOMPLETE')] = nan"
   ],
   "metadata": {
    "collapsed": false,
    "pycharm": {
     "name": "#%%\n"
    }
   }
  },
  {
   "cell_type": "code",
   "execution_count": 67,
   "outputs": [
    {
     "data": {
      "text/plain": "MIU                                                           \n1341CabdHayyTalibi.IclamBiMan.Shamela0001584-ara1.403877938380    5\n0804IbnMulaqqin.CiqdMudhahhab.Sham19Y0016664-ara1.902245132377    4\n1341CabdHayyTalibi.IclamBiMan.Shamela0001584-ara1.780509654571    4\n0681IbnKhallikan.WafayatAcyan.JK001318-ara2.412769875429          4\n1089IbnCimad.Shadharat.Shamela0012398-ara1.548296207136           3\n                                                                 ..\n0723IbnFuwati.MajmacAdab.Sham19Y0014075-ara1.747106270547         1\n0723IbnFuwati.MajmacAdab.Sham19Y0014075-ara1.747005565281         1\n0723IbnFuwati.MajmacAdab.Sham19Y0014075-ara1.740378555331         1\n0723IbnFuwati.MajmacAdab.Sham19Y0014075-ara1.726554181602         1\n1405CaliShahrudi.Mustadrakat.Shia002984Vols-ara1.487562692965     1\nLength: 1459, dtype: int64"
     },
     "execution_count": 67,
     "metadata": {},
     "output_type": "execute_result"
    }
   ],
   "source": [
    "sheets_df.dropna().value_counts(subset=['MIU'])"
   ],
   "metadata": {
    "collapsed": false,
    "pycharm": {
     "name": "#%%\n"
    }
   }
  },
  {
   "cell_type": "code",
   "execution_count": 68,
   "outputs": [
    {
     "data": {
      "text/plain": "STATUS \nNaN        8\nTOPONYM    4\ndtype: int64"
     },
     "execution_count": 68,
     "metadata": {},
     "output_type": "execute_result"
    }
   ],
   "source": [
    "sheets_df.loc[sheets_df['MIU'] == '0681IbnKhallikan.WafayatAcyan.JK001318-ara2.412769875429'].value_counts(subset=['STATUS'], dropna=False)"
   ],
   "metadata": {
    "collapsed": false,
    "pycharm": {
     "name": "#%%\n"
    }
   }
  },
  {
   "cell_type": "code",
   "execution_count": 69,
   "outputs": [],
   "source": [
    "def get_infile_path(miu: str) -> str:\n",
    "    author, text, version, uid = miu.split('.')\n",
    "    return '../../' + MIU_REPO + 'data/' + '/'.join([author, '.'.join([author, text])]) + '/MIUs/' + miu + '.EIS1600'"
   ],
   "metadata": {
    "collapsed": false,
    "pycharm": {
     "name": "#%%\n"
    }
   }
  },
  {
   "cell_type": "code",
   "execution_count": 73,
   "outputs": [
    {
     "data": {
      "text/plain": "                                                   MIU  \\\n346  0681IbnKhallikan.WafayatAcyan.JK001318-ara2.41...   \n\n                                            MODIFIABLE  \\\n346  [ شهرستان قصبة ناحية سابور من ارض فارس,  مدينة...   \n\n                                   STATUS  \n346  [TOPONYM, TOPONYM, TOPONYM, TOPONYM]  ",
      "text/html": "<div>\n<style scoped>\n    .dataframe tbody tr th:only-of-type {\n        vertical-align: middle;\n    }\n\n    .dataframe tbody tr th {\n        vertical-align: top;\n    }\n\n    .dataframe thead th {\n        text-align: right;\n    }\n</style>\n<table border=\"1\" class=\"dataframe\">\n  <thead>\n    <tr style=\"text-align: right;\">\n      <th></th>\n      <th>MIU</th>\n      <th>MODIFIABLE</th>\n      <th>STATUS</th>\n    </tr>\n  </thead>\n  <tbody>\n    <tr>\n      <th>346</th>\n      <td>0681IbnKhallikan.WafayatAcyan.JK001318-ara2.41...</td>\n      <td>[ شهرستان قصبة ناحية سابور من ارض فارس,  مدينة...</td>\n      <td>[TOPONYM, TOPONYM, TOPONYM, TOPONYM]</td>\n    </tr>\n  </tbody>\n</table>\n</div>"
     },
     "execution_count": 73,
     "metadata": {},
     "output_type": "execute_result"
    }
   ],
   "source": [
    "entries = sheets_df.loc[sheets_df['STATUS'].notna() & sheets_df['STATUS'].str.fullmatch('TOPONYM|NISBA')]\n",
    "df_by_files = DataFrame(entries.groupby('MIU').agg(list)).reset_index()\n",
    "df_by_files.loc[df_by_files['MIU'] == '0681IbnKhallikan.WafayatAcyan.JK001318-ara2.412769875429']"
   ],
   "metadata": {
    "collapsed": false,
    "pycharm": {
     "name": "#%%\n"
    }
   }
  },
  {
   "cell_type": "code",
   "execution_count": 35,
   "outputs": [],
   "source": [
    "infiles = [get_infile_path(miu) for miu in df_by_files['MIU'].to_list()]"
   ],
   "metadata": {
    "collapsed": false,
    "pycharm": {
     "name": "#%%\n"
    }
   }
  },
  {
   "cell_type": "code",
   "execution_count": 36,
   "outputs": [
    {
     "data": {
      "text/plain": "MIU           0398AbuNasrKalabadhi.HidayaWaIrshad.Shamela001...\nMODIFIABLE                               [ حمير وهي قرية بدمشق]\nName: 0, dtype: object"
     },
     "execution_count": 36,
     "metadata": {},
     "output_type": "execute_result"
    }
   ],
   "source": [
    "row = df_by_files.iloc[0]\n",
    "row"
   ],
   "metadata": {
    "collapsed": false,
    "pycharm": {
     "name": "#%%\n"
    }
   }
  },
  {
   "cell_type": "code",
   "execution_count": 20,
   "outputs": [
    {
     "data": {
      "text/plain": "                                                     MIU  \\\n0      0240KhalifaIbnKhayyat.Tabaqat.Shia003056-ara1....   \n1      0240KhalifaIbnKhayyat.Tabaqat.Shia003056-ara1....   \n2      0240KhalifaIbnKhayyat.Tabaqat.Shia003056-ara1....   \n3      0240KhalifaIbnKhayyat.Tabaqat.Shia003056-ara1....   \n4      0240KhalifaIbnKhayyat.Tabaqat.Shia003056-ara1....   \n...                                                  ...   \n24757  1450AkramFaluji.MucjamSaghir.Shamela0029982-ar...   \n24758  1450AkramFaluji.MucjamSaghir.Shamela0029982-ar...   \n24759  1450AkramFaluji.MucjamSaghir.Shamela0029982-ar...   \n24760  1450AkramFaluji.MucjamSaghir.Shamela0029982-ar...   \n24761  1450AkramFaluji.MucjamSaghir.Shamela0029982-ar...   \n\n                                              MODIFIABLE  \n0      [هاشم بن عبد مناف استشهد بسفوان من ناحية البصر...  \n1      [يكنى أبا عتاب قتل بعقبة الطين من ناحية فارس س...  \n2      [عبيد وهو رجل من أهل رامهرمز من قرية يقال لها ...  \n3      [الله صلى الله عليه استشهد بكربلاء من ناحية ال...  \n4      [بن عبيد بن أبي عبيد الدراوردي وهي قرية بخراسا...  \n...                                                  ...  \n24757  [المدني ، مولده بالحميمة من أرض الشراة ، من نا...  \n24758  [الأول سنة إحدى عشرة ومائتين ، من العاشرة ، مح...  \n24759  [مولى آل عمر بن الخطاب ، أصله من ناحية البصرة,...  \n24760  [عمير ، الطائي ، الكوفي ، من الثالثة ، تابعي ،...  \n24761  [الصباح بن محارب ، التيمي ، الكوفي ، سكن بعض ق...  \n\n[24762 rows x 2 columns]",
      "text/html": "<div>\n<style scoped>\n    .dataframe tbody tr th:only-of-type {\n        vertical-align: middle;\n    }\n\n    .dataframe tbody tr th {\n        vertical-align: top;\n    }\n\n    .dataframe thead th {\n        text-align: right;\n    }\n</style>\n<table border=\"1\" class=\"dataframe\">\n  <thead>\n    <tr style=\"text-align: right;\">\n      <th></th>\n      <th>MIU</th>\n      <th>MODIFIABLE</th>\n    </tr>\n  </thead>\n  <tbody>\n    <tr>\n      <th>0</th>\n      <td>0240KhalifaIbnKhayyat.Tabaqat.Shia003056-ara1....</td>\n      <td>[هاشم بن عبد مناف استشهد بسفوان من ناحية البصر...</td>\n    </tr>\n    <tr>\n      <th>1</th>\n      <td>0240KhalifaIbnKhayyat.Tabaqat.Shia003056-ara1....</td>\n      <td>[يكنى أبا عتاب قتل بعقبة الطين من ناحية فارس س...</td>\n    </tr>\n    <tr>\n      <th>2</th>\n      <td>0240KhalifaIbnKhayyat.Tabaqat.Shia003056-ara1....</td>\n      <td>[عبيد وهو رجل من أهل رامهرمز من قرية يقال لها ...</td>\n    </tr>\n    <tr>\n      <th>3</th>\n      <td>0240KhalifaIbnKhayyat.Tabaqat.Shia003056-ara1....</td>\n      <td>[الله صلى الله عليه استشهد بكربلاء من ناحية ال...</td>\n    </tr>\n    <tr>\n      <th>4</th>\n      <td>0240KhalifaIbnKhayyat.Tabaqat.Shia003056-ara1....</td>\n      <td>[بن عبيد بن أبي عبيد الدراوردي وهي قرية بخراسا...</td>\n    </tr>\n    <tr>\n      <th>...</th>\n      <td>...</td>\n      <td>...</td>\n    </tr>\n    <tr>\n      <th>24757</th>\n      <td>1450AkramFaluji.MucjamSaghir.Shamela0029982-ar...</td>\n      <td>[المدني ، مولده بالحميمة من أرض الشراة ، من نا...</td>\n    </tr>\n    <tr>\n      <th>24758</th>\n      <td>1450AkramFaluji.MucjamSaghir.Shamela0029982-ar...</td>\n      <td>[الأول سنة إحدى عشرة ومائتين ، من العاشرة ، مح...</td>\n    </tr>\n    <tr>\n      <th>24759</th>\n      <td>1450AkramFaluji.MucjamSaghir.Shamela0029982-ar...</td>\n      <td>[مولى آل عمر بن الخطاب ، أصله من ناحية البصرة,...</td>\n    </tr>\n    <tr>\n      <th>24760</th>\n      <td>1450AkramFaluji.MucjamSaghir.Shamela0029982-ar...</td>\n      <td>[عمير ، الطائي ، الكوفي ، من الثالثة ، تابعي ،...</td>\n    </tr>\n    <tr>\n      <th>24761</th>\n      <td>1450AkramFaluji.MucjamSaghir.Shamela0029982-ar...</td>\n      <td>[الصباح بن محارب ، التيمي ، الكوفي ، سكن بعض ق...</td>\n    </tr>\n  </tbody>\n</table>\n<p>24762 rows × 2 columns</p>\n</div>"
     },
     "execution_count": 20,
     "metadata": {},
     "output_type": "execute_result"
    }
   ],
   "source": [
    "entries = sheets_df.loc[sheets_df['STATUS'].isna()]\n",
    "df_by_files = DataFrame(entries.groupby('MIU')['MODIFIABLE'].apply(list)).reset_index()\n",
    "infiles = [get_infile_path(miu) for miu in df_by_files['MIU'].to_list()]\n",
    "\n",
    "df_by_files['infile'] = infiles"
   ],
   "metadata": {
    "collapsed": false,
    "pycharm": {
     "name": "#%%\n"
    }
   }
  },
  {
   "cell_type": "code",
   "execution_count": 4,
   "outputs": [
    {
     "data": {
      "text/plain": "MIU           0240KhalifaIbnKhayyat.Tabaqat.Shia003056-ara1....\nMODIFIABLE    [هاشم بن عبد مناف استشهد بسفوان من ناحية البصر...\ninfile        ../../EIS1600_MIUs/data/0240KhalifaIbnKhayyat/...\nName: 0, dtype: object"
     },
     "execution_count": 4,
     "metadata": {},
     "output_type": "execute_result"
    }
   ],
   "source": [
    "row = df_by_files.iloc[0]\n",
    "row"
   ],
   "metadata": {
    "collapsed": false,
    "pycharm": {
     "name": "#%%\n"
    }
   }
  },
  {
   "cell_type": "code",
   "execution_count": 5,
   "outputs": [],
   "source": [
    "place_terms = ['كورة', 'كور', 'قرية', 'قرى', 'مدينة', 'مدن', 'ناحية', 'نواح', 'نواحي', 'محلة', 'محال', 'محلات', 'بلد',\n",
    "               'بلاد', 'ارباع', 'رستاق', 'رساتيق', 'أعمال']  # 'ربع'\n",
    "technical_terms = ['من', 'بين',\n",
    "                   'نسبة',\n",
    "                   'يوم', 'يوما',\n",
    "                   'مرحلة', 'مرحلتان', 'مرحلتين', 'مراحل',\n",
    "                   'فرسخ', 'فرسخا', 'فراسخ',\n",
    "                   'ميل', 'ميلا', 'أميال']\n",
    "dn_pt = [denormalize(t) for t in place_terms]\n",
    "dn_tt = [denormalize(t) for t in technical_terms]\n",
    "dn_spelling = Spellings.instance().get_denormalized_list()\n",
    "dn_toponyms = Toponyms.instance().total()\n",
    "\n",
    "PLACES_REGEX = compile(\n",
    "        r'(?P<context>(?:' + WORD + NOISE_ELEMENTS +\n",
    "        r'(?P<spelling> [وب]?(?:ال)?(?:' + '|'.join(dn_spelling) + ')(?:ها)?' + NOISE_ELEMENTS + r')*){1,10})'\n",
    "        r' (?P<place_term>' + '|'.join(dn_pt) + r')(?P<more_context>' + WORD + NOISE_ELEMENTS + r'){1,7}'\n",
    ")\n",
    "\n",
    "TT_REGEX = compile(r'|'.join(dn_pt + dn_tt + dn_spelling + dn_toponyms))"
   ],
   "metadata": {
    "collapsed": false,
    "pycharm": {
     "name": "#%%\n"
    }
   }
  },
  {
   "cell_type": "code",
   "execution_count": 6,
   "outputs": [
    {
     "name": "stdout",
     "output_type": "stream",
     "text": [
      "الزبير بن العوام بن خويلد بن أسد بن عبد العزى يكنى أبا عبد الله أمه صفية TPD17 بنت عبد المطلب بن هاشم بن عبد مناف استشهد بسفوان من ناحية البصرة سنة ست وثلاثين وأخوه\n"
     ]
    }
   ],
   "source": [
    "infile = row['infile']\n",
    "outfile = '../../' + TOPO_REPO + 'MIUs/' + row['MIU'] + '.EIS1600'\n",
    "with open(infile, 'r', encoding='utf-8') as miu_file_object:\n",
    "    yml_handler, df = get_yml_and_miu_df(miu_file_object)\n",
    "\n",
    "text = ' '.join(df['TOKENS'].loc[df['TOKENS'].notna()].to_list())\n",
    "text_updated = text\n",
    "\n",
    "if PLACES_REGEX.search(text_updated):\n",
    "        m = PLACES_REGEX.search(text_updated)\n",
    "        while m:\n",
    "            start = m.start()\n",
    "            end = m.end()\n",
    "            if len(TT_REGEX.findall(m.group(0))) >= 3:\n",
    "                p = m.group(0).strip()\n",
    "                tag = 'TPD' + str(len(p.split())) + ' '\n",
    "                text_updated = text_updated.replace(p, tag + p)\n",
    "                m = PLACES_REGEX.search(text_updated, end + len(tag))\n",
    "            else:\n",
    "                m = PLACES_REGEX.search(text_updated, end)"
   ],
   "metadata": {
    "collapsed": false,
    "pycharm": {
     "name": "#%%\n"
    }
   }
  },
  {
   "cell_type": "code",
   "execution_count": 7,
   "outputs": [
    {
     "data": {
      "text/plain": "'_ء_#=435133874943= $\\n\\n_ء_=533398029058= ::UNDEFINED:: ~\\n_ء_ الزبير بن العوام بن خويلد بن أسد بن عبد العزى\\n\\n_ء_=416360170249= ::UNDEFINED:: ~\\n_ء_ يكنى أبا عبد الله أمه صفية TPD17 بنت عبد المطلب بن هاشم بن عبد مناف استشهد بسفوان من ناحية البصرة سنة ست وثلاثين\\n\\n_ء_=465567744777= ::UNDEFINED:: ~\\n_ء_ وأخوه\\n\\n'"
     },
     "execution_count": 7,
     "metadata": {},
     "output_type": "execute_result"
    }
   ],
   "source": [
    "tokens, tags = get_tokens_and_tags(text_updated)\n",
    "\n",
    "df.loc[df['TOKENS'].notna(), 'TPD_TAGS'] = tags\n",
    "df['TAGS_LISTS'] = df.apply(lambda x: merge_tagslists(x['TAGS_LISTS'], x['TPD_TAGS']), axis=1)\n",
    "\n",
    "updated_text = reconstruct_miu_text_with_tags(df[['SECTIONS', 'TOKENS', 'TAGS_LISTS']])\n",
    "updated_text"
   ],
   "metadata": {
    "collapsed": false,
    "pycharm": {
     "name": "#%%\n"
    }
   }
  },
  {
   "cell_type": "code",
   "execution_count": 9,
   "outputs": [
    {
     "name": "stdout",
     "output_type": "stream",
     "text": [
      "../../Topo_Data/MIUs/0240KhalifaIbnKhayyat.Tabaqat.Shia003056-ara1.435133874943.EIS1600\n"
     ]
    }
   ],
   "source": [
    "with open(outfile, 'w', encoding='utf-8') as outfile_h:\n",
    "    outfile_h.write(str(yml_handler) + updated_text)\n"
   ],
   "metadata": {
    "collapsed": false,
    "pycharm": {
     "name": "#%%\n"
    }
   }
  },
  {
   "cell_type": "code",
   "execution_count": null,
   "outputs": [],
   "source": [],
   "metadata": {
    "collapsed": false,
    "pycharm": {
     "name": "#%%\n"
    }
   }
  }
 ],
 "metadata": {
  "kernelspec": {
   "display_name": "Python 3",
   "language": "python",
   "name": "python3"
  },
  "language_info": {
   "codemirror_mode": {
    "name": "ipython",
    "version": 2
   },
   "file_extension": ".py",
   "mimetype": "text/x-python",
   "name": "python",
   "nbconvert_exporter": "python",
   "pygments_lexer": "ipython2",
   "version": "2.7.6"
  }
 },
 "nbformat": 4,
 "nbformat_minor": 0
}