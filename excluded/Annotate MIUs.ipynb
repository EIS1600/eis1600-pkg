{
 "cells": [
  {
   "cell_type": "code",
   "execution_count": 1,
   "metadata": {
    "tags": []
   },
   "outputs": [],
   "source": [
    "from tqdm import tqdm\n",
    "\n",
    "from eis1600.helper.repo import read_files_from_readme, get_files_from_eis1600_dir\n",
    "from eis1600.preprocessing.methods import get_yml_and_MIU_df, write_updated_miu_to_file\n",
    "from eis1600.miu.methods import annotate_miu_file, get_mius"
   ]
  },
  {
   "cell_type": "code",
   "execution_count": 2,
   "metadata": {
    "pycharm": {
     "name": "#%%"
    }
   },
   "outputs": [],
   "source": [
    "# path=\"../OpenITI_EIS1600_MIUs/data/0571IbnCasakir/0571IbnCasakir.TarikhDimashq/MIUs/0571IbnCasakir.TarikhDimashq.JK000916-ara1.723685268869.EIS1600\"\n",
    "# annotate_miu_file(path)"
   ]
  },
  {
   "cell_type": "code",
   "execution_count": null,
   "metadata": {
    "pycharm": {
     "name": "#%%\n"
    }
   },
   "outputs": [
    {
     "name": "stdout",
     "output_type": "stream",
     "text": [
      "85370 MIU files are found\n"
     ]
    },
    {
     "name": "stderr",
     "output_type": "stream",
     "text": [
      "  4%|▍         | 3313/85370 [1:35:43<30:59:20,  1.36s/it] "
     ]
    }
   ],
   "source": [
    "input_dir = '../OpenITI_EIS1600_MIUs/'\n",
    "files_list = read_files_from_readme(input_dir, '# Texts disassembled into MIU files\\n')\n",
    "infiles = get_files_from_eis1600_dir(input_dir, files_list, 'IDs')\n",
    "mius = []\n",
    "for file in infiles:\n",
    "    mius.extend(get_mius(file)[1:]) # First element is path to the OPENITI HEADER\n",
    "print(f'{len(mius)} MIU files are found')    \n",
    "\n",
    "for miu in tqdm(mius):\n",
    "    try:\n",
    "        annotate_miu_file(miu)\n",
    "    except Exception as e:\n",
    "        print(miu, e)"
   ]
  },
  {
   "cell_type": "code",
   "execution_count": null,
   "metadata": {},
   "outputs": [],
   "source": []
  }
 ],
 "metadata": {
  "kernelspec": {
   "display_name": "Python 3",
   "language": "python",
   "name": "python3"
  },
  "language_info": {
   "codemirror_mode": {
    "name": "ipython",
    "version": 3
   },
   "file_extension": ".py",
   "mimetype": "text/x-python",
   "name": "python",
   "nbconvert_exporter": "python",
   "pygments_lexer": "ipython3",
   "version": "3.8.8"
  }
 },
 "nbformat": 4,
 "nbformat_minor": 4
}
