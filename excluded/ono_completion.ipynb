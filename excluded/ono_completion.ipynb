{
 "cells": [
  {
   "cell_type": "code",
   "execution_count": 19,
   "metadata": {
    "collapsed": true
   },
   "outputs": [],
   "source": [
    "import pandas as pd"
   ]
  },
  {
   "cell_type": "code",
   "execution_count": 20,
   "outputs": [],
   "source": [
    "oa = pd.read_csv('../../OnomasticonArabicum2020/oa2020/ono_gazetteer.csv')"
   ],
   "metadata": {
    "collapsed": false,
    "pycharm": {
     "name": "#%%\n"
    }
   }
  },
  {
   "cell_type": "code",
   "execution_count": 21,
   "outputs": [],
   "source": [
    "prefixes = ['ف', 'و']\n",
    "suffixes = ['ه', 'ت', 'ها']"
   ],
   "metadata": {
    "collapsed": false,
    "pycharm": {
     "name": "#%%\n"
    }
   }
  },
  {
   "cell_type": "code",
   "execution_count": 22,
   "outputs": [],
   "source": [
    "exp = oa.loc[(oa['CATEGORY'] == 'EXP') & (oa['COUNT'] > 4), 'TEXT'].to_list()\n",
    "exp.extend(['اسمه', 'ثم', 'يعني', 'من أهل ', 'أهل ال', 'والد', 'الأصل', 'الماضي', 'نسبة', 'يعرف كسلفه ب'])\n",
    "exp_prefixed = [prefix + elem for prefix in prefixes for elem in exp]\n",
    "exp_prefixed.extend(exp)\n",
    "og_exp = [elem[:-1] if elem[-2:] == 'به' else elem for elem in exp_prefixed]"
   ],
   "metadata": {
    "collapsed": false,
    "pycharm": {
     "name": "#%%\n"
    }
   }
  },
  {
   "cell_type": "code",
   "execution_count": 23,
   "outputs": [],
   "source": [
    "og_ism = oa.loc[(oa['CATEGORY'] == 'ISM') & (oa['COUNT'] > 4), 'TEXT'].to_list()\n",
    "og_ism.extend(['عبد شمس'])\n",
    "og_nsb = oa.loc[(oa['CATEGORY'] == 'NSB') & (oa['COUNT'] > 4), 'TEXT'].to_list()\n",
    "og_swm = oa.loc[(oa['CATEGORY'] == 'SWM') & (oa['COUNT'] > 4), 'TEXT'].to_list()"
   ],
   "metadata": {
    "collapsed": false,
    "pycharm": {
     "name": "#%%\n"
    }
   }
  },
  {
   "cell_type": "code",
   "execution_count": 24,
   "outputs": [],
   "source": [
    "laq = oa.loc[(oa['CATEGORY'] == 'LAQ') & (oa['COUNT'] > 4), 'TEXT'].to_list()\n",
    "laq.extend(['ال' + l.split()[0] for l in laq if ' الدين' in l])\n",
    "og_laq = list(set(laq))"
   ],
   "metadata": {
    "collapsed": false,
    "pycharm": {
     "name": "#%%\n"
    }
   }
  },
  {
   "cell_type": "code",
   "execution_count": 25,
   "outputs": [],
   "source": [
    "end = ['ولد', 'روى', 'عن', 'يروي', 'تروي', 'سمع', 'حدث', 'قرأ', 'أخذ', 'حكى', 'أخبرنا', 'تفق', 'ذكر', 'وفد',\n",
    "      'قد', 'توفي', 'مات', 'مولد', 'أجاز']\n",
    "end_prefixed = [prefix + elem for prefix in prefixes for elem in end]\n",
    "end_prefixed.extend(end)\n",
    "end_prefixed.extend([elem + suffix for suffix in suffixes for elem in end])\n",
    "og_end = end_prefixed + end + ['NASAB']"
   ],
   "metadata": {
    "collapsed": false,
    "pycharm": {
     "name": "#%%\n"
    }
   }
  },
  {
   "cell_type": "code",
   "execution_count": 26,
   "outputs": [],
   "source": [
    "data = [('END', elem) for elem in og_end]\n",
    "data.extend([('EXP', elem) for elem in og_exp])\n",
    "data.extend([('ISM', elem) for elem in og_ism])\n",
    "data.extend([('LAQ', elem) for elem in og_laq])\n",
    "data.extend([('NSB', elem) for elem in og_nsb])\n",
    "data.extend([('SWM', elem) for elem in og_swm])"
   ],
   "metadata": {
    "collapsed": false,
    "pycharm": {
     "name": "#%%\n"
    }
   }
  },
  {
   "cell_type": "code",
   "execution_count": 27,
   "outputs": [],
   "source": [
    "og_df = pd.DataFrame(data, columns=['category', 'value'])\n",
    "og_df.to_csv('../eis1600/gazetteers/data/onomastics.csv', index=False)"
   ],
   "metadata": {
    "collapsed": false,
    "pycharm": {
     "name": "#%%\n"
    }
   }
  },
  {
   "cell_type": "code",
   "execution_count": 27,
   "outputs": [],
   "source": [],
   "metadata": {
    "collapsed": false,
    "pycharm": {
     "name": "#%%\n"
    }
   }
  }
 ],
 "metadata": {
  "kernelspec": {
   "display_name": "Python 3",
   "language": "python",
   "name": "python3"
  },
  "language_info": {
   "codemirror_mode": {
    "name": "ipython",
    "version": 2
   },
   "file_extension": ".py",
   "mimetype": "text/x-python",
   "name": "python",
   "nbconvert_exporter": "python",
   "pygments_lexer": "ipython2",
   "version": "2.7.6"
  }
 },
 "nbformat": 4,
 "nbformat_minor": 0
}