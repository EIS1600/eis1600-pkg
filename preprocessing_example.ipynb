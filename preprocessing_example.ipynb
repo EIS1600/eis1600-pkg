{
 "cells": [
  {
   "cell_type": "code",
   "execution_count": 1,
   "metadata": {
    "tags": []
   },
   "outputs": [],
   "source": [
    "from eis1600.preprocessing.methods import get_yml_and_MIU_df, write_updated_miu_to_file\n"
   ]
  },
  {
   "cell_type": "code",
   "execution_count": 2,
   "metadata": {
    "pycharm": {
     "name": "#%%\n"
    }
   },
   "outputs": [],
   "source": [
    "# path = '../OpenITI_EIS1600_Texts/data/0902Sakhawi/0902Sakhawi.DawLamic/MIUs/0902Sakhawi.DawLamic.JK003608-ara1.407921234503.EIS1600'\n",
    "path = '../OpenITI_EIS1600_Texts/data/0902Sakhawi/0902Sakhawi.DawLamic/MIUs/0902Sakhawi.DawLamic.JK003608-ara1.665971589120.EIS1600'"
   ]
  },
  {
   "cell_type": "code",
   "execution_count": 3,
   "outputs": [],
   "source": [
    "yml, df = get_yml_and_MIU_df(path)\n",
    "df.to_csv('../0902Sakhawi.DawLamic.JK003608-ara1.665971589120.csv', index=False)"
   ],
   "metadata": {
    "collapsed": false,
    "pycharm": {
     "name": "#%%\n"
    }
   }
  },
  {
   "cell_type": "code",
   "execution_count": 4,
   "metadata": {
    "collapsed": false,
    "jupyter": {
     "outputs_hidden": false
    },
    "pycharm": {
     "name": "#%%\n"
    }
   },
   "outputs": [],
   "source": [
    "write_updated_miu_to_file(path, yml, df)"
   ]
  },
  {
   "cell_type": "code",
   "execution_count": 4,
   "metadata": {
    "pycharm": {
     "name": "#%%"
    }
   },
   "outputs": [],
   "source": []
  }
 ],
 "metadata": {
  "kernelspec": {
   "display_name": "Python 3 (ipykernel)",
   "language": "python",
   "name": "python3"
  },
  "language_info": {
   "codemirror_mode": {
    "name": "ipython",
    "version": 3
   },
   "file_extension": ".py",
   "mimetype": "text/x-python",
   "name": "python",
   "nbconvert_exporter": "python",
   "pygments_lexer": "ipython3",
   "version": "3.8.10"
  }
 },
 "nbformat": 4,
 "nbformat_minor": 4
}