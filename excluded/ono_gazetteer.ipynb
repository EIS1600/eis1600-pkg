{
 "cells": [
  {
   "cell_type": "code",
   "execution_count": 1,
   "metadata": {
    "collapsed": true
   },
   "outputs": [],
   "source": [
    "from typing import List\n",
    "\n",
    "import pandas as pd\n",
    "\n",
    "from openiti.helper.ara import denoise"
   ]
  },
  {
   "cell_type": "code",
   "execution_count": 2,
   "outputs": [],
   "source": [
    "def cmt_rplc(cmt: str) -> str:\n",
    "    cmt_updtd = cmt.replace(' ؟', '')\n",
    "    cmt_updtd = cmt_updtd.replace('؟', '')\n",
    "    cmt_updtd = cmt_updtd.replace('%', '')\n",
    "\n",
    "    return cmt_updtd.strip()"
   ],
   "metadata": {
    "collapsed": false,
    "pycharm": {
     "name": "#%%\n"
    }
   }
  },
  {
   "cell_type": "code",
   "execution_count": 3,
   "outputs": [
    {
     "data": {
      "text/plain": "0         ISM\n1         IAB\n2         GAD\n3         NSB\n4         SIF\n         ... \n283368    KUN\n283369    HAL\n283370    SWM\n283371    MAT\n283372    REF\nName: category, Length: 283373, dtype: category\nCategories (62, object): ['ABG', 'ABG0', 'AHL', 'AHL0', ..., 'UMT', 'UMT0', 'WLD', 'WLD0']"
     },
     "execution_count": 3,
     "metadata": {},
     "output_type": "execute_result"
    }
   ],
   "source": [
    "df = pd.read_csv('../../OnomasticonArabicum2020/oa2020/oa2020.csv')\n",
    "df['category'].astype('category')"
   ],
   "metadata": {
    "collapsed": false,
    "pycharm": {
     "name": "#%%\n"
    }
   }
  },
  {
   "cell_type": "code",
   "execution_count": 4,
   "outputs": [
    {
     "name": "stdout",
     "output_type": "stream",
     "text": [
      "['ISM' 'IAB' 'GAD' 'NSB' 'SIF' 'SWM' 'UMT' 'MAT' 'REF' 'DIN' 'SUH' 'HAL'\n",
      " 'KUN' 'HDR' 'LAQ' 'ABG' 'GAG' 'GGG' 'LQB' 'HDF' 'HRI' 'HWL' 'HMT' 'SRK'\n",
      " 'WLD' 'AHL' 'SMT' 'AKH' 'TRH' 'GNS' 'GAD0' 'HRB' 'ABG0' 'HAQ' 'GAG0'\n",
      " 'IAB0' 'AHL0' 'HDR0' 'WLD0' 'NSB0' 'SNF' 'ISM0' 'MIN' 'TRH0' 'ILA' 'HAQ0'\n",
      " 'SWM0' 'HAL0' 'LQB0' 'EGL' 'KUN0' 'MAT0' 'SUH0' 'HDF0' 'AQB' 'SNF0'\n",
      " 'SMT0' 'HMT0' 'HRI0' 'HWL0' 'DIN0' 'UMT0']\n"
     ]
    }
   ],
   "source": [
    "print(df['category'].unique())"
   ],
   "metadata": {
    "collapsed": false,
    "pycharm": {
     "name": "#%%\n"
    }
   }
  },
  {
   "cell_type": "code",
   "execution_count": 5,
   "outputs": [
    {
     "data": {
      "text/plain": "محمد        8845\nأحمد        4480\nعلي         3759\nعبد الله    2758\nأأأ         1840\n            ... \nزوطي           1\nماه            1\nمرقي           1\nقياما          1\nسرية           1\nName: content, Length: 4999, dtype: int64"
     },
     "execution_count": 5,
     "metadata": {},
     "output_type": "execute_result"
    }
   ],
   "source": [
    "ism_cats = ['ISM', 'IAB', 'GAD', 'ABG', 'GAG', 'IAB0', 'GAD0', 'ABG0', 'GAG0']\n",
    "isms = df.loc[df['category'].isin(ism_cats)]\n",
    "ism_vc = isms['content'].apply(denoise).value_counts()\n",
    "ism_vc.to_csv('../../OnomasticonArabicum2020/oa2020/ism.csv')\n",
    "ism_vc"
   ],
   "metadata": {
    "collapsed": false,
    "pycharm": {
     "name": "#%%\n"
    }
   }
  },
  {
   "cell_type": "code",
   "execution_count": 6,
   "outputs": [
    {
     "name": "stderr",
     "output_type": "stream",
     "text": [
      "/tmp/ipykernel_26466/3875768200.py:2: SettingWithCopyWarning: \n",
      "A value is trying to be set on a copy of a slice from a DataFrame.\n",
      "Try using .loc[row_indexer,col_indexer] = value instead\n",
      "\n",
      "See the caveats in the documentation: https://pandas.pydata.org/pandas-docs/stable/user_guide/indexing.html#returning-a-view-versus-a-copy\n",
      "  ism_com['content'] = ism_com['content'].apply(denoise)\n",
      "/tmp/ipykernel_26466/3875768200.py:3: SettingWithCopyWarning: \n",
      "A value is trying to be set on a copy of a slice from a DataFrame.\n",
      "Try using .loc[row_indexer,col_indexer] = value instead\n",
      "\n",
      "See the caveats in the documentation: https://pandas.pydata.org/pandas-docs/stable/user_guide/indexing.html#returning-a-view-versus-a-copy\n",
      "  ism_com['comment'] = ism_com['comment'].apply(denoise).apply(cmt_rplc)\n"
     ]
    }
   ],
   "source": [
    "ism_com = isms.loc[isms['comment'].notna()]\n",
    "ism_com['content'] = ism_com['content'].apply(denoise)\n",
    "ism_com['comment'] = ism_com['comment'].apply(denoise).apply(cmt_rplc)\n",
    "ism_com[['content', 'comment']].value_counts().to_csv('../../OnomasticonArabicum2020/oa2020/ism_com.csv')"
   ],
   "metadata": {
    "collapsed": false,
    "pycharm": {
     "name": "#%%\n"
    }
   }
  },
  {
   "cell_type": "code",
   "execution_count": 7,
   "outputs": [
    {
     "data": {
      "text/plain": "أبو عبد الله    1046\nأبو الحسن        973\nأبو محمد         888\nأبو بكر          696\nأبو القاسم       609\n                ... \nأبو جابر           1\nأبو حافظ           1\nأبو الجماهر        1\nأبو الضوء          1\nأبو مخرم           1\nName: content, Length: 722, dtype: int64"
     },
     "execution_count": 7,
     "metadata": {},
     "output_type": "execute_result"
    }
   ],
   "source": [
    "kun_cats = ['KUN', 'KIN0']\n",
    "kuns = df.loc[df['category'].isin(kun_cats)]\n",
    "kun_vc = kuns['content'].apply(denoise).value_counts()\n",
    "kun_vc.to_csv('../../OnomasticonArabicum2020/oa2020/kun.csv')\n",
    "kun_vc"
   ],
   "metadata": {
    "collapsed": false,
    "pycharm": {
     "name": "#%%\n"
    }
   }
  },
  {
   "cell_type": "code",
   "execution_count": 8,
   "outputs": [
    {
     "data": {
      "text/plain": "البغدادي     868\nالدمشقي      759\nالمصري       602\nالبصري       395\nالكوفي       392\n            ... \nاليونارتي      1\nالحطيني        1\nكتكاني         1\nالديلي         1\nالنيسابور      1\nName: content, Length: 3344, dtype: int64"
     },
     "execution_count": 8,
     "metadata": {},
     "output_type": "execute_result"
    }
   ],
   "source": [
    "nsb_cats = ['NSB']\n",
    "nsbs = df.loc[df['category'].isin(nsb_cats)]\n",
    "nsb_vc = nsbs['content'].apply(denoise).value_counts()\n",
    "nsb_vc.to_csv('../../OnomasticonArabicum2020/oa2020/nsb.csv')\n",
    "nsb_vc"
   ],
   "metadata": {
    "collapsed": false,
    "pycharm": {
     "name": "#%%\n"
    }
   }
  },
  {
   "cell_type": "code",
   "execution_count": 9,
   "outputs": [
    {
     "data": {
      "text/plain": "الملس               568\nشمس الدين           533\nسيد                 395\nشهاب الدين          348\nجمال الدين          302\n                   ... \nالقطب النيسابوري      1\nإمام الربوة           1\nالكذاب                1\nقراد                  1\nمنلا                  1\nName: content, Length: 1899, dtype: int64"
     },
     "execution_count": 9,
     "metadata": {},
     "output_type": "execute_result"
    }
   ],
   "source": [
    "laq_cats = ['LAQ', 'LAQ0', 'LQB', 'LQB0']\n",
    "laqs = df.loc[df['category'].isin(laq_cats)]\n",
    "laq_vc = laqs['content'].apply(denoise).value_counts()\n",
    "laq_vc.to_csv('../../OnomasticonArabicum2020/oa2020/laq.csv')\n",
    "laq_vc"
   ],
   "metadata": {
    "collapsed": false,
    "pycharm": {
     "name": "#%%\n"
    }
   }
  },
  {
   "cell_type": "code",
   "execution_count": 10,
   "outputs": [
    {
     "data": {
      "text/plain": "شاعر       3146\nمحدث       2510\nفقيه       1875\nمصنف       1732\nقاضي       1280\n           ... \nالبأآر        1\nزيات          1\nالجلآري       1\nحبر           1\nطريب          1\nName: content, Length: 1212, dtype: int64"
     },
     "execution_count": 10,
     "metadata": {},
     "output_type": "execute_result"
    }
   ],
   "source": [
    "swm_cats = ['SWM', 'SWM0']\n",
    "swms = df.loc[df['category'].isin(swm_cats)]\n",
    "swm_vc = swms['content'].apply(denoise).value_counts()\n",
    "swm_vc.to_csv('../../OnomasticonArabicum2020/oa2020/swm.csv')\n",
    "swm_vc"
   ],
   "metadata": {
    "collapsed": false,
    "pycharm": {
     "name": "#%%\n"
    }
   }
  },
  {
   "cell_type": "code",
   "execution_count": 11,
   "outputs": [
    {
     "name": "stderr",
     "output_type": "stream",
     "text": [
      "/tmp/ipykernel_26466/1046742382.py:2: SettingWithCopyWarning: \n",
      "A value is trying to be set on a copy of a slice from a DataFrame.\n",
      "Try using .loc[row_indexer,col_indexer] = value instead\n",
      "\n",
      "See the caveats in the documentation: https://pandas.pydata.org/pandas-docs/stable/user_guide/indexing.html#returning-a-view-versus-a-copy\n",
      "  swm_com['content'] = swm_com['content'].apply(denoise)\n",
      "/tmp/ipykernel_26466/1046742382.py:3: SettingWithCopyWarning: \n",
      "A value is trying to be set on a copy of a slice from a DataFrame\n",
      "\n",
      "See the caveats in the documentation: https://pandas.pydata.org/pandas-docs/stable/user_guide/indexing.html#returning-a-view-versus-a-copy\n",
      "  swm_com['comment'].loc[swm_com['comment'].notna()] = swm_com['comment'].loc[swm_com['comment'].notna()].apply(denoise).apply(cmt_rplc)\n"
     ]
    },
    {
     "data": {
      "text/plain": "content    comment                \nشاعر                                  1323\nمحدث                                   854\nمصنف                                   599\nراوي                                   460\nمدرس                                   282\n                                      ... \nشيخ        الإسلام ; المرجع              1\n           الأطباء؛بالعراق               1\n           الأطباء                       1\n           الآثار النبوية؛بعد أبيه       1\nولي العهد  ولي عهد أبيه ووزيره           1\nLength: 9003, dtype: int64"
     },
     "execution_count": 11,
     "metadata": {},
     "output_type": "execute_result"
    }
   ],
   "source": [
    "swm_com = swms[['content', 'comment']]\n",
    "swm_com['content'] = swm_com['content'].apply(denoise)\n",
    "swm_com['comment'].loc[swm_com['comment'].notna()] = swm_com['comment'].loc[swm_com['comment'].notna()].apply(denoise).apply(cmt_rplc)\n",
    "swm_com_vc = swm_com.value_counts()\n",
    "swm_com_vc.to_csv('../../OnomasticonArabicum2020/oa2020/swm_com.csv')\n",
    "swm_com_vc"
   ],
   "metadata": {
    "collapsed": false,
    "pycharm": {
     "name": "#%%\n"
    }
   }
  },
  {
   "cell_type": "code",
   "execution_count": 12,
   "outputs": [],
   "source": [
    "suh_cats = ['SUH', 'SUH0']\n",
    "suhs = df.loc[df['category'].isin(suh_cats)]\n",
    "suh_vc = suhs['content'].apply(denoise).value_counts()\n",
    "suh_vc.to_csv('../../OnomasticonArabicum2020/oa2020/suh.csv')"
   ],
   "metadata": {
    "collapsed": false,
    "pycharm": {
     "name": "#%%\n"
    }
   }
  },
  {
   "cell_type": "code",
   "execution_count": 13,
   "outputs": [
    {
     "data": {
      "text/plain": "المعروف به                    855\nيعرف به                       272\n                              217\nالملقب به                      40\nمعروف به                       37\n                             ... \nمعنا طويل سكوت                  1\nتعرف به عائلته                  1\nإلى جده لأمه صفي الدين          1\nبلغة الأندلس الأبيض الأشقر      1\nالمشهور به في دياره             1\nName: comment, Length: 261, dtype: int64"
     },
     "execution_count": 13,
     "metadata": {},
     "output_type": "execute_result"
    }
   ],
   "source": [
    "suh_com_vc = suhs['comment'].loc[suhs['comment'].notna()].apply(denoise).apply(cmt_rplc).value_counts()\n",
    "suh_com_vc.to_csv('../../OnomasticonArabicum2020/oa2020/suh_com.csv')\n",
    "suh_com_vc"
   ],
   "metadata": {
    "collapsed": false,
    "pycharm": {
     "name": "#%%\n"
    }
   }
  },
  {
   "cell_type": "code",
   "execution_count": 14,
   "outputs": [
    {
     "data": {
      "text/plain": "بغداد                               1132\nدمشق                                 922\nمكة                                  880\nمصر                                  802\nالأندلس                              397\n                                    ... \nسخاو                                   1\nالعنبرانية                             1\nالرباط                                 1\nهرث                                    1\nسافر مع السلطان إلى قتال الأعاجم       1\nName: content, Length: 2956, dtype: int64"
     },
     "execution_count": 14,
     "metadata": {},
     "output_type": "execute_result"
    }
   ],
   "source": [
    "hal_cats = ['HAQ', 'HDF', 'HDR', 'HMT', 'HRB', 'HRI', 'HWL', 'HDR0', 'HAQ0', 'HAL0', 'HDF0', 'HMT0', 'HWL0']\n",
    "hals = df.loc[df['category'].isin(hal_cats)]\n",
    "hal_vc = hals['content'].apply(denoise).value_counts()\n",
    "hal_vc.to_csv('../../OnomasticonArabicum2020/oa2020/hal.csv')\n",
    "hal_vc"
   ],
   "metadata": {
    "collapsed": false,
    "pycharm": {
     "name": "#%%\n"
    }
   }
  },
  {
   "cell_type": "code",
   "execution_count": 15,
   "outputs": [],
   "source": [
    "def get_topo_as_list(topos_str: str) -> List[str]:\n",
    "    return topos_str.split('، ')"
   ],
   "metadata": {
    "collapsed": false,
    "pycharm": {
     "name": "#%%\n"
    }
   }
  },
  {
   "cell_type": "code",
   "execution_count": 16,
   "outputs": [],
   "source": [
    "thurayya = pd.read_csv('../../OnomasticonArabicum2020/oa2020/toponyms_extended.csv', converters={'toponyms': get_topo_as_list})\n",
    "known_toponyms = thurayya['toponyms'].explode(ignore_index=True).to_list()"
   ],
   "metadata": {
    "collapsed": false,
    "pycharm": {
     "name": "#%%\n"
    }
   }
  },
  {
   "cell_type": "code",
   "execution_count": 17,
   "outputs": [],
   "source": [
    "toponyms = hals['content'].apply(denoise)\n",
    "unknown_toponyms = toponyms.loc[~toponyms.isin(known_toponyms)]\n",
    "unknown_toponyms_vc = unknown_toponyms.value_counts()\n",
    "unknown_toponyms_vc.to_csv('../../OnomasticonArabicum2020/oa2020/unknown_toponyms.csv')"
   ],
   "metadata": {
    "collapsed": false,
    "pycharm": {
     "name": "#%%\n"
    }
   }
  }
 ],
 "metadata": {
  "kernelspec": {
   "display_name": "Python 3",
   "language": "python",
   "name": "python3"
  },
  "language_info": {
   "codemirror_mode": {
    "name": "ipython",
    "version": 2
   },
   "file_extension": ".py",
   "mimetype": "text/x-python",
   "name": "python",
   "nbconvert_exporter": "python",
   "pygments_lexer": "ipython2",
   "version": "2.7.6"
  }
 },
 "nbformat": 4,
 "nbformat_minor": 0
}